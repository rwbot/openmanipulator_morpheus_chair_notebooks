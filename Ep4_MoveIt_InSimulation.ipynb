{
 "cells": [
  {
   "cell_type": "markdown",
   "metadata": {},
   "source": [
    "# EP 4: Create Your Own Gazebo Simulation for RobotArm"
   ]
  },
  {
   "cell_type": "markdown",
   "metadata": {},
   "source": [
    "<img src=\"images/simpose_home.png\"/>"
   ]
  },
  {
   "cell_type": "markdown",
   "metadata": {},
   "source": [
    "We would like to test loads of things in our Real Robot Arm, but there is a problem: What if we break it? What if we dont have the robot arm available all the time because we work in a team or because I'm on the go? What if I want to test something risky? What if I dont have some sensor for perception and I want to start coding to test if it would work before buying it?."
   ]
  },
  {
   "cell_type": "markdown",
   "metadata": {},
   "source": [
    "For all those reasons, simulation is vital for the robot software development."
   ]
  },
  {
   "cell_type": "markdown",
   "metadata": {},
   "source": [
    "Objectives:\n",
    "* Learn how to create your own simulation of your robot arm\n",
    "* Integrate everything done until now with Moveit\n",
    "* Prepare simulation for integrating perception in Moveit"
   ]
  },
  {
   "cell_type": "markdown",
   "metadata": {},
   "source": [
    "## Create the launch files for the simulation"
   ]
  },
  {
   "cell_type": "markdown",
   "metadata": {},
   "source": [
    "We need to start three things:\n",
    "* The Gazebo world.\n",
    "* Spawn the URDF of the robot arm\n",
    "* Start the control system for the simulated robot arm."
   ]
  },
  {
   "cell_type": "code",
   "execution_count": null,
   "metadata": {
    "collapsed": true
   },
   "outputs": [],
   "source": [
    "roscd openmanipulator_morpheus_chair_tutorials\n",
    "mkdir launch\n",
    "mkdir worlds\n",
    "mkdir config\n",
    "touch launch/start_simulation.launch\n",
    "touch worlds/empty_kinect.world\n",
    "touch launch/trajectory_controller.launch\n",
    "touch config/trajectory_controller.yaml"
   ]
  },
  {
   "cell_type": "markdown",
   "metadata": {},
   "source": [
    "<p style=\"background:#3B8F10;color:white;\" id=\"simple_python\">**start_simulation.launch** </p>"
   ]
  },
  {
   "cell_type": "code",
   "execution_count": null,
   "metadata": {
    "collapsed": true
   },
   "outputs": [],
   "source": [
    "<launch>\n",
    "  <!-- These are the arguments you can pass this launch file, for example paused:=true -->\n",
    "  <arg name=\"paused\" default=\"false\"/>\n",
    "  <arg name=\"use_sim_time\" default=\"true\"/>\n",
    "  <arg name=\"gui\" default=\"true\"/>\n",
    "  <arg name=\"headless\" default=\"false\"/>\n",
    "  <arg name=\"debug\" default=\"false\"/>\n",
    "\n",
    "  <!-- We resume the logic in empty_world.launch, changing only the name of the world to be launched -->\n",
    "  <include file=\"$(find gazebo_ros)/launch/empty_world.launch\">\n",
    "    <arg name=\"world_name\" value=\"$(find openmanipulator_morpheus_chair_tutorials)/worlds/empty_kinect.world\"/>\n",
    "    <arg name=\"debug\" value=\"$(arg debug)\" />\n",
    "    <arg name=\"gui\" value=\"$(arg gui)\" />\n",
    "    <arg name=\"paused\" value=\"$(arg paused)\"/>\n",
    "    <arg name=\"use_sim_time\" value=\"$(arg use_sim_time)\"/>\n",
    "    <arg name=\"headless\" value=\"$(arg headless)\"/>\n",
    "  </include>\n",
    "\n",
    "  <!-- Load the URDF into the ROS Parameter Server -->\n",
    "  <param name=\"robot_description\"\n",
    "   command=\"$(find xacro)/xacro --inorder '$(find open_manipulator_support_description)/urdf/open_manipulator_support.urdf.xacro'\"/>\n",
    "\n",
    "  <!-- Run a python script to the send a service call to gazebo_ros to spawn a URDF robot -->\n",
    "  <node name=\"urdf_spawner\" pkg=\"gazebo_ros\" type=\"spawn_model\" respawn=\"false\" output=\"screen\"\n",
    "     args=\"-urdf -model assem_urdf10_description -z 0.02 -param robot_description\"/>\n",
    "\n",
    "  <node name=\"tf_footprint_base\" pkg=\"tf\" type=\"static_transform_publisher\" args=\"0 0 0 0 0 0 base_link base_footprint 40\" />\n",
    "\n",
    "  <node args=\"0.85931 0.242068 1.04639 2.1 0 -1.57 /base_link /camera_depth_optical_frame 20\" name=\"kinect_base_link\" pkg=\"tf\" type=\"static_transform_publisher\" />\n",
    "\n",
    "  <!-- ros_control robotis manipulator launch file -->\n",
    "\n",
    "  <include file=\"$(find openmanipulator_morpheus_chair_tutorials)/launch/trajectory_controller.launch\"/>\n",
    "\n",
    "</launch>\n"
   ]
  },
  {
   "cell_type": "markdown",
   "metadata": {},
   "source": [
    "<p style=\"background:#3B8F10;color:white;\" id=\"simple_python\">**END start_simulation.launch** </p>"
   ]
  },
  {
   "cell_type": "markdown",
   "metadata": {},
   "source": [
    "<p style=\"background:#3B8F10;color:white;\" id=\"simple_python\">**empty_kinect.world** </p>"
   ]
  },
  {
   "cell_type": "code",
   "execution_count": null,
   "metadata": {
    "collapsed": true
   },
   "outputs": [],
   "source": [
    "<sdf version=\"1.4\">\n",
    "  <world name=\"default\">\n",
    "    <!-- A global light source -->\n",
    "    <include>\n",
    "      <uri>model://sun</uri>\n",
    "    </include>\n",
    "\n",
    "    <!-- A ground plane -->\n",
    "    <include>\n",
    "      <uri>model://ground_plane</uri>\n",
    "    </include>\n",
    "\n",
    "    <physics type=\"ode\">\n",
    "      <real_time_update_rate>1000.0</real_time_update_rate>\n",
    "      <max_step_size>0.001</max_step_size>\n",
    "      <real_time_factor>1</real_time_factor>\n",
    "      <ode>\n",
    "        <solver>\n",
    "          <type>quick</type>\n",
    "          <iters>150</iters>\n",
    "          <precon_iters>0</precon_iters>\n",
    "          <sor>1.400000</sor>\n",
    "          <use_dynamic_moi_rescaling>1</use_dynamic_moi_rescaling>\n",
    "        </solver>\n",
    "        <constraints>\n",
    "          <cfm>0.00001</cfm>\n",
    "          <erp>0.2</erp>\n",
    "          <contact_max_correcting_vel>2000.000000</contact_max_correcting_vel>\n",
    "          <contact_surface_layer>0.01000</contact_surface_layer>\n",
    "        </constraints>\n",
    "      </ode>\n",
    "    </physics>\n",
    "\n",
    "    <scene>\n",
    "      <ambient>0.4 0.4 0.4 1</ambient>\n",
    "      <background>0.7 0.7 0.7 1</background>\n",
    "      <shadows>true</shadows>\n",
    "    </scene>\n",
    "\n",
    "    <gui fullscreen='0'>\n",
    "      <camera name='user_camera'>\n",
    "        <pose> 2.0 -2.0 1.2 0.0 0.275643 2.356190 </pose>\n",
    "        <view_controller>orbit</view_controller>\n",
    "      </camera>\n",
    "    </gui>\n",
    "    \n",
    "\n",
    "    <model name='kinect'>\n",
    "      <static>1</static>\n",
    "      <pose frame=''>0.85931 0.242068 0.805 0 0.523599 -2.6122</pose>\n",
    "      <link name='link'>\n",
    "        <inertial>\n",
    "          <mass>0.1</mass>\n",
    "          <inertia>\n",
    "            <ixx>1</ixx>\n",
    "            <ixy>0</ixy>\n",
    "            <ixz>0</ixz>\n",
    "            <iyy>1</iyy>\n",
    "            <iyz>0</iyz>\n",
    "            <izz>1</izz>\n",
    "          </inertia>\n",
    "        </inertial>\n",
    "        <collision name='collision'>\n",
    "          <geometry>\n",
    "            <box>\n",
    "              <size>0.073 0.276 0.072</size>\n",
    "            </box>\n",
    "          </geometry>\n",
    "          <max_contacts>10</max_contacts>\n",
    "          <surface>\n",
    "            <contact>\n",
    "              <ode/>\n",
    "            </contact>\n",
    "            <bounce/>\n",
    "            <friction>\n",
    "              <torsional>\n",
    "                <ode/>\n",
    "              </torsional>\n",
    "              <ode/>\n",
    "            </friction>\n",
    "          </surface>\n",
    "        </collision>\n",
    "        <visual name='visual'>\n",
    "          <geometry>\n",
    "            <mesh>\n",
    "              <uri>model://kinect/meshes/kinect.dae</uri>\n",
    "              <scale>1 1 1</scale>\n",
    "            </mesh>\n",
    "          </geometry>\n",
    "        </visual>\n",
    "        <sensor name='camera' type='depth'>\n",
    "          <update_rate>20</update_rate>\n",
    "          <camera name='__default__'>\n",
    "            <horizontal_fov>1.0472</horizontal_fov>\n",
    "            <image>\n",
    "              <width>640</width>\n",
    "              <height>480</height>\n",
    "              <format>R8G8B8</format>\n",
    "            </image>\n",
    "            <clip>\n",
    "              <near>0.05</near>\n",
    "              <far>3</far>\n",
    "            </clip>\n",
    "          </camera>\n",
    "          <plugin filename=\"libgazebo_ros_openni_kinect.so\" name=\"kinect_camera_controller\">                                                                            \n",
    "          <cameraName>camera</cameraName>                                                                                                                             \n",
    "          <alwaysOn>true</alwaysOn>                                                                                                                                   \n",
    "          <updateRate>10</updateRate>                                                                                                                                 \n",
    "          <imageTopicName>rgb/image_raw</imageTopicName>                                                                                                              \n",
    "          <depthImageTopicName>depth/image_raw</depthImageTopicName>                                                                                                  \n",
    "          <pointCloudTopicName>depth/points</pointCloudTopicName>                                                                                                     \n",
    "          <cameraInfoTopicName>rgb/camera_info</cameraInfoTopicName>                                                                                                  \n",
    "          <depthImageCameraInfoTopicName>depth/camera_info</depthImageCameraInfoTopicName>                                                                            \n",
    "          <frameName>camera_depth_optical_frame</frameName>                                                                                                           \n",
    "          <baseline>0.1</baseline>                                                                                                                                    \n",
    "          <distortion_k1>0.0</distortion_k1>                                                                                                                          \n",
    "          <distortion_k2>0.0</distortion_k2>                                                                                                                          \n",
    "          <distortion_k3>0.0</distortion_k3>                                                                                                                          \n",
    "          <distortion_t1>0.0</distortion_t1>                                                                                                                          \n",
    "          <distortion_t2>0.0</distortion_t2>                                                                                                                          \n",
    "          <pointCloudCutoff>0.4</pointCloudCutoff>                                                                                                                    \n",
    "          <robotNamespace>/</robotNamespace>                                                                                                                          \n",
    "        </plugin>\n",
    "        </sensor>\n",
    "        <self_collide>0</self_collide>\n",
    "        <kinematic>0</kinematic>\n",
    "      </link>\n",
    "    </model>\n",
    "    <model name='kinect_pilar'>\n",
    "      <static>1</static>\n",
    "      <pose frame=''>0.89 0.242 0.5 0 -0 0</pose>\n",
    "      <link name='link'>\n",
    "        <inertial>\n",
    "          <mass>1</mass>\n",
    "          <inertia>\n",
    "            <ixx>0.145833</ixx>\n",
    "            <ixy>0</ixy>\n",
    "            <ixz>0</ixz>\n",
    "            <iyy>0.145833</iyy>\n",
    "            <iyz>0</iyz>\n",
    "            <izz>0.125</izz>\n",
    "          </inertia>\n",
    "        </inertial>\n",
    "        <collision name='collision'>\n",
    "          <geometry>\n",
    "            <cylinder>\n",
    "              <radius>0.04</radius>\n",
    "              <length>0.5</length>\n",
    "            </cylinder>\n",
    "          </geometry>\n",
    "          <max_contacts>10</max_contacts>\n",
    "          <surface>\n",
    "            <contact>\n",
    "              <ode/>\n",
    "            </contact>\n",
    "            <bounce/>\n",
    "            <friction>\n",
    "              <torsional>\n",
    "                <ode/>\n",
    "              </torsional>\n",
    "              <ode/>\n",
    "            </friction>\n",
    "          </surface>\n",
    "        </collision>\n",
    "        <visual name='visual'>\n",
    "          <geometry>\n",
    "            <cylinder>\n",
    "              <radius>0.04</radius>\n",
    "              <length>0.5</length>\n",
    "            </cylinder>\n",
    "          </geometry>\n",
    "          <material>\n",
    "            <script>\n",
    "              <uri>file://media/materials/scripts/gazebo.material</uri>\n",
    "              <name>Gazebo/Metal</name>\n",
    "            </script>\n",
    "            <ambient>1 1 1 1</ambient>\n",
    "          </material>\n",
    "        </visual>\n",
    "        <self_collide>0</self_collide>\n",
    "        <kinematic>0</kinematic>\n",
    "      </link>\n",
    "    </model>\n",
    "\n",
    "  </world>\n",
    "</sdf>\n"
   ]
  },
  {
   "cell_type": "markdown",
   "metadata": {},
   "source": [
    "<p style=\"background:#3B8F10;color:white;\" id=\"simple_python\">**END empty_kinect.world** </p>"
   ]
  },
  {
   "cell_type": "markdown",
   "metadata": {},
   "source": [
    "<p style=\"background:#3B8F10;color:white;\" id=\"simple_python\">**trajectory_controller.launch** </p>"
   ]
  },
  {
   "cell_type": "code",
   "execution_count": null,
   "metadata": {
    "collapsed": true
   },
   "outputs": [],
   "source": [
    "<launch>\n",
    "\n",
    "  <!-- Load joint controller configurations from YAML file to parameter server -->\n",
    "  <rosparam file=\"$(find openmanipulator_morpheus_chair_tutorials)/config/trajectory_controller.yaml\" command=\"load\"/>\n",
    "\n",
    "  <!-- load the controllers -->\n",
    "  <node name=\"controller_spawner\" pkg=\"controller_manager\" type=\"spawner\" respawn=\"false\"\n",
    "    output=\"screen\" args=\"joint_state_controller arm\"/>\n",
    "\n",
    "  <!-- convert joint states to TF transforms for rviz, etc -->\n",
    "  <node name=\"robot_state_publisher\" pkg=\"robot_state_publisher\" type=\"robot_state_publisher\"\n",
    "    respawn=\"false\" output=\"screen\">\n",
    "  </node>\n",
    "\n",
    "</launch>"
   ]
  },
  {
   "cell_type": "markdown",
   "metadata": {},
   "source": [
    "<p style=\"background:#3B8F10;color:white;\" id=\"simple_python\">**END trajectory_controller.launch** </p>"
   ]
  },
  {
   "cell_type": "markdown",
   "metadata": {},
   "source": [
    "<p style=\"background:#3B8F10;color:white;\" id=\"simple_python\">**trajectory_controller.yaml** </p>"
   ]
  },
  {
   "cell_type": "code",
   "execution_count": null,
   "metadata": {
    "collapsed": true
   },
   "outputs": [],
   "source": [
    "joint_state_controller:\n",
    "    type: joint_state_controller/JointStateController\n",
    "    publish_rate: 50\n",
    "\n",
    "arm:\n",
    "    type: position_controllers/JointTrajectoryController\n",
    "    joints:\n",
    "        - id_1\n",
    "        - id_2\n",
    "        - id_3\n",
    "        - id_4\n",
    "        - id_5\n",
    "        - id_6\n",
    "\n",
    "    constraints:\n",
    "        goal_time: 0.6\n",
    "        stopped_velocity_tolerance: 0.05\n",
    "        id_1: {trajectory: 0.1, goal: 0.1}\n",
    "        id_2: {trajectory: 0.1, goal: 0.1}\n",
    "        id_3: {trajectory: 0.1, goal: 0.1}\n",
    "        id_4: {trajectory: 0.1, goal: 0.1}\n",
    "        id_5: {trajectory: 0.1, goal: 0.1}\n",
    "        id_6: {trajectory: 0.1, goal: 0.1}\n",
    "\n",
    "    stop_trajectory_duration: 0.5\n",
    "    state_publish_rate:  25\n",
    "    action_monitor_rate: 10\n"
   ]
  },
  {
   "cell_type": "markdown",
   "metadata": {},
   "source": [
    "<p style=\"background:#3B8F10;color:white;\" id=\"simple_python\">**END trajectory_controller.yaml** </p>"
   ]
  },
  {
   "cell_type": "code",
   "execution_count": null,
   "metadata": {
    "collapsed": true
   },
   "outputs": [],
   "source": [
    "cd open_manipulator_support_description/urdf\n",
    "ls open_manipulator.gazebo.xacro"
   ]
  },
  {
   "cell_type": "code",
   "execution_count": null,
   "metadata": {
    "collapsed": true
   },
   "outputs": [],
   "source": [
    "  <gazebo>\n",
    "    <plugin name=\"gazebo_ros_control\" filename=\"libgazebo_ros_control.so\">\n",
    "      <robotNamespace></robotNamespace>\n",
    "      <controlPeriod>0.001</controlPeriod>\n",
    "      <robotSimType>gazebo_ros_control/DefaultRobotHWSim</robotSimType>\n",
    "    </plugin>\n",
    "  </gazebo>"
   ]
  },
  {
   "cell_type": "code",
   "execution_count": null,
   "metadata": {
    "collapsed": true
   },
   "outputs": [],
   "source": [
    "cd open_manipulator_support_description/urdf\n",
    "ls open_manipulator_support.urdf.xacro"
   ]
  },
  {
   "cell_type": "code",
   "execution_count": null,
   "metadata": {
    "collapsed": true
   },
   "outputs": [],
   "source": [
    "<transmission name=\"tran6\">\n",
    "    <type>transmission_interface/SimpleTransmission</type>\n",
    "    <joint name=\"id_6\">\n",
    "      <hardwareInterface>hardware_interface/PositionJointInterface</hardwareInterface>\n",
    "    </joint>\n",
    "    <actuator name=\"motor6\">\n",
    "      <hardwareInterface>hardware_interface/PositionJointInterface</hardwareInterface>\n",
    "      <mechanicalReduction>1</mechanicalReduction>\n",
    "    </actuator>\n",
    "  </transmission>"
   ]
  },
  {
   "cell_type": "markdown",
   "metadata": {},
   "source": [
    "## Launch the simulation"
   ]
  },
  {
   "cell_type": "markdown",
   "metadata": {},
   "source": [
    "Now you are ready to launch the simulation. You can do it through the **ROSDS Simulations Panel** if you want the easy way.\n",
    "Or through the WebShell through the command:"
   ]
  },
  {
   "cell_type": "markdown",
   "metadata": {},
   "source": [
    "<table style=\"float:left;background: #407EAF\">\n",
    "<tr>\n",
    "<th>\n",
    "<p class=\"transparent\">Execute in ROSDS WebShell #1</p>\n",
    "</th>\n",
    "</tr>\n",
    "</table>\n",
    "<br>"
   ]
  },
  {
   "cell_type": "code",
   "execution_count": null,
   "metadata": {
    "collapsed": true
   },
   "outputs": [],
   "source": [
    "roslaunch openmanipulator_morpheus_chair_tutorials start_simulation.launch"
   ]
  },
  {
   "cell_type": "markdown",
   "metadata": {},
   "source": [
    "Or through the **Simulations Pannel**:"
   ]
  },
  {
   "cell_type": "markdown",
   "metadata": {},
   "source": [
    "<img src=\"images/launch1.png\"/>"
   ]
  },
  {
   "cell_type": "markdown",
   "metadata": {},
   "source": [
    "<img src=\"images/launch2.png\"/>"
   ]
  },
  {
   "cell_type": "markdown",
   "metadata": {},
   "source": [
    "You should now have a simulation like this:"
   ]
  },
  {
   "cell_type": "markdown",
   "metadata": {},
   "source": [
    "<img src=\"images/simmanipulator.png\"/>"
   ]
  },
  {
   "cell_type": "markdown",
   "metadata": {},
   "source": [
    "<table style=\"float:left;background: #407EAF\">\n",
    "<tr>\n",
    "<th>\n",
    "<p class=\"transparent\">Execute in ROSDS WebShell #2</p>\n",
    "</th>\n",
    "</tr>\n",
    "</table>\n",
    "<br>"
   ]
  },
  {
   "cell_type": "code",
   "execution_count": null,
   "metadata": {
    "collapsed": true
   },
   "outputs": [],
   "source": [
    "roslaunch openmanipulator_ep2_movit_config open_manipulator_planning_execution.launch"
   ]
  },
  {
   "cell_type": "markdown",
   "metadata": {},
   "source": [
    "And be able to execute Moveit! movements and that the simulations moves accordingly:"
   ]
  },
  {
   "cell_type": "markdown",
   "metadata": {},
   "source": [
    "<img src=\"images/movit_sim.png\"/>"
   ]
  }
 ],
 "metadata": {
  "kernelspec": {
   "display_name": "Python 2",
   "language": "python",
   "name": "python2"
  },
  "language_info": {
   "codemirror_mode": {
    "name": "ipython",
    "version": 2
   },
   "file_extension": ".py",
   "mimetype": "text/x-python",
   "name": "python",
   "nbconvert_exporter": "python",
   "pygments_lexer": "ipython2",
   "version": "2.7.12"
  }
 },
 "nbformat": 4,
 "nbformat_minor": 2
}
