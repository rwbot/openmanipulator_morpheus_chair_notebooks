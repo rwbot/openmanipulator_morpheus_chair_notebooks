{
 "cells": [
  {
   "cell_type": "markdown",
   "metadata": {},
   "source": [
    "# Servo Motor Control: Create the scripts that will connect with the hardware and move the robot arm dynamixel servos."
   ]
  },
  {
   "cell_type": "markdown",
   "metadata": {},
   "source": [
    "In this chapter we are going to talk all about connecting to the servos, creating a rospackage that can comunicate with them through USB and some theory about the servos we will be using which are the Dynamixel."
   ]
  },
  {
   "cell_type": "markdown",
   "metadata": {},
   "source": [
    "<p style=\"background:red;color:white;\" id=\"prg-1-1\">WARNING</p><br>"
   ]
  },
  {
   "cell_type": "markdown",
   "metadata": {},
   "source": [
    "You will be playing with a robot arm without any security mesure, so be responsible and be carefull to not hit anyone or anything. Test simple and safe movements first, before executing more complex ones. BE WARNED!"
   ]
  },
  {
   "cell_type": "markdown",
   "metadata": {},
   "source": [
    "<p style=\"background:red;color:white;\" id=\"prg-1-1\">WARNING</p><br>"
   ]
  },
  {
   "cell_type": "markdown",
   "metadata": {},
   "source": [
    "# DEMO/EXAMPLE:"
   ]
  },
  {
   "cell_type": "markdown",
   "metadata": {},
   "source": [
    "These are the commands needed to launch and move the robot arm servos, using Clarksons already implemented scripts:"
   ]
  },
  {
   "cell_type": "markdown",
   "metadata": {},
   "source": [
    "* Turn On and plug the USB to your PC/RaspberryPi"
   ]
  },
  {
   "cell_type": "markdown",
   "metadata": {},
   "source": [
    "<img src=\"images/plugin_openmanipulator_clarkson1.png\"/>"
   ]
  },
  {
   "cell_type": "markdown",
   "metadata": {},
   "source": [
    "<img src=\"images/plugin_openmanipulator_clarkson1.png\"/>"
   ]
  },
  {
   "cell_type": "markdown",
   "metadata": {},
   "source": [
    "<img src=\"images/plugin_openmanipulator_clarkson1.png\"/>"
   ]
  },
  {
   "cell_type": "markdown",
   "metadata": {},
   "source": [
    "<img src=\"images/plugin_openmanipulator_clarkson1.png\"/>"
   ]
  },
  {
   "cell_type": "code",
   "execution_count": null,
   "metadata": {
    "collapsed": true
   },
   "outputs": [],
   "source": [
    "cd ~/open_manipulator_ws\n",
    "source devel/setup.bash\n",
    "rospack profile\n"
   ]
  },
  {
   "cell_type": "markdown",
   "metadata": {},
   "source": [
    "Files we will use:\n",
    "* **dynamixel_position_controller/launch/position_control.launch**\n",
    "* **dynamixel_workbench_controllers/src/position_control.cpp**"
   ]
  },
  {
   "cell_type": "markdown",
   "metadata": {},
   "source": [
    "## How to know in which device your USB has been plugged?"
   ]
  },
  {
   "cell_type": "markdown",
   "metadata": {},
   "source": [
    "There are many ways but here is the most intuitive way because its dynamic. Just execute the command and plug your device. You will see that it will appear a new message with the device name:"
   ]
  },
  {
   "cell_type": "code",
   "execution_count": null,
   "metadata": {
    "collapsed": true
   },
   "outputs": [],
   "source": [
    "dmesg -wH"
   ]
  },
  {
   "cell_type": "markdown",
   "metadata": {},
   "source": [
    "Output when plugin and unplugin:"
   ]
  },
  {
   "cell_type": "code",
   "execution_count": null,
   "metadata": {
    "collapsed": true
   },
   "outputs": [],
   "source": [
    "[  +7,356777] usb 3-1: new high-speed USB device number 9 using xhci_hcd\n",
    "[  +0,134790] usb 3-1: New USB device found, idVendor=0403, idProduct=6014\n",
    "[  +0,000011] usb 3-1: New USB device strings: Mfr=1, Product=2, SerialNumber=3\n",
    "[  +0,000006] usb 3-1: Product: USB <-> Serial Converter\n",
    "[  +0,000005] usb 3-1: Manufacturer: FTDI\n",
    "[  +0,000004] usb 3-1: SerialNumber: FT2H2ZXW\n",
    "[  +0,003952] ftdi_sio 3-1:1.0: FTDI USB Serial Device converter detected\n",
    "[  +0,000086] usb 3-1: Detected FT232H\n",
    "[  +0,000876] usb 3-1: FTDI USB Serial Device converter now attached to ttyUSB0\n",
    "    \n",
    "    \n",
    "    \n",
    "    \n",
    "    UNPLUG\n",
    "    \n",
    "    \n",
    "    \n",
    "    \n",
    "[ +16,678853] usb 3-1: USB disconnect, device number 9\n",
    "[  +0,000491] ftdi_sio ttyUSB0: FTDI USB Serial Device converter now disconnected from ttyUSB0\n",
    "[  +0,000059] ftdi_sio 3-1:1.0: device disconnected"
   ]
  },
  {
   "cell_type": "markdown",
   "metadata": {},
   "source": [
    "Now attached to **ttyUSB0**.  This is the most impoartant element of data. This is the device_name = /dev/ttyUSB0, that you will use to connect afterwards."
   ]
  },
  {
   "cell_type": "markdown",
   "metadata": {},
   "source": [
    "Also if you want some more human like info about the device connected:\n"
   ]
  },
  {
   "cell_type": "code",
   "execution_count": null,
   "metadata": {
    "collapsed": true
   },
   "outputs": [],
   "source": [
    "lsusb"
   ]
  },
  {
   "cell_type": "markdown",
   "metadata": {},
   "source": [
    "Output:"
   ]
  },
  {
   "cell_type": "raw",
   "metadata": {},
   "source": [
    "rdaneel open_manipulator_ws $ lsusb\n",
    "Bus 002 Device 002: ID 8087:0024 Intel Corp. Integrated Rate Matching Hub\n",
    "Bus 002 Device 001: ID 1d6b:0002 Linux Foundation 2.0 root hub\n",
    "Bus 004 Device 001: ID 1d6b:0003 Linux Foundation 3.0 root hub\n",
    "Bus 003 Device 001: ID 1d6b:0002 Linux Foundation 2.0 root hub\n",
    "Bus 001 Device 006: ID 0cf3:3005 Atheros Communications, Inc. AR3011 Bluetooth\n",
    "Bus 001 Device 004: ID 04f2:b2cf Chicony Electronics Co., Ltd \n",
    "Bus 001 Device 003: ID 04d9:a067 Holtek Semiconductor, Inc. \n",
    "Bus 001 Device 002: ID 8087:0024 Intel Corp. Integrated Rate Matching Hub\n",
    "Bus 001 Device 001: ID 1d6b:0002 Linux Foundation 2.0 root hub\n",
    "        \n",
    "        PLUG IT ( See the differences )\n",
    "        \n",
    "rdaneel open_manipulator_ws $ lsusb\n",
    "Bus 002 Device 002: ID 8087:0024 Intel Corp. Integrated Rate Matching Hub\n",
    "Bus 002 Device 001: ID 1d6b:0002 Linux Foundation 2.0 root hub\n",
    "Bus 004 Device 001: ID 1d6b:0003 Linux Foundation 3.0 root hub\n",
    "**Bus 003 Device 010: ID 0403:6014 Future Technology Devices International, Ltd FT232H Single HS USB-UART/FIFO IC**\n",
    "Bus 003 Device 001: ID 1d6b:0002 Linux Foundation 2.0 root hub\n",
    "Bus 001 Device 006: ID 0cf3:3005 Atheros Communications, Inc. AR3011 Bluetooth\n",
    "Bus 001 Device 004: ID 04f2:b2cf Chicony Electronics Co., Ltd \n",
    "Bus 001 Device 003: ID 04d9:a067 Holtek Semiconductor, Inc. \n",
    "Bus 001 Device 002: ID 8087:0024 Intel Corp. Integrated Rate Matching Hub\n",
    "Bus 001 Device 001: ID 1d6b:0002 Linux Foundation 2.0 root hub\n"
   ]
  },
  {
   "cell_type": "markdown",
   "metadata": {},
   "source": [
    "## Launch Position Control Node:"
   ]
  },
  {
   "cell_type": "code",
   "execution_count": null,
   "metadata": {
    "collapsed": true
   },
   "outputs": [],
   "source": [
    "cd ~/open_manipulator_ws\n",
    "source devel/setup.bash\n",
    "rospack profile\n",
    "roslaunch dynamixel_workbench_controllers position_control.launch"
   ]
  },
  {
   "cell_type": "markdown",
   "metadata": {},
   "source": [
    "Possible errors:"
   ]
  },
  {
   "cell_type": "code",
   "execution_count": null,
   "metadata": {
    "collapsed": true
   },
   "outputs": [],
   "source": [
    "[ERROR] [1562837899.024503906]: Not found Motors, Please check scan range or baud rate\n",
    "================================================================================REQUIRED process [position_control-2] has died!\n",
    "process has died [pid 14723, exit code -11, cmd /home/rdaneel/ros_playground/open_manipulator_ws/devel/lib/dynamixel_workbench_controllers/position_control __name:=position_control __log:=/home/rdaneel/.ros/log/9c5dd618-a3bf-11e9-ba51-9cb70d2d9370/position_control-2.log].\n",
    "log file: /home/rdaneel/.ros/log/9c5dd618-a3bf-11e9-ba51-9cb70d2d9370/position_control-2*.log\n",
    "Initiating shutdown!\n",
    "================================================================================"
   ]
  },
  {
   "cell_type": "code",
   "execution_count": null,
   "metadata": {
    "collapsed": true
   },
   "outputs": [],
   "source": [
    "This means that you have to edir these values:"
   ]
  },
  {
   "cell_type": "code",
   "execution_count": null,
   "metadata": {
    "collapsed": true
   },
   "outputs": [],
   "source": [
    "<arg name=\"device_name\"                default=\"/dev/ttyUSB0\"/>\n",
    "<arg name=\"baud_rate\"                  default=\"57600\"/>\n",
    "<arg name=\"scan_range\"                 default=\"10\"/>"
   ]
  },
  {
   "cell_type": "code",
   "execution_count": null,
   "metadata": {
    "collapsed": true
   },
   "outputs": [],
   "source": [
    "<arg name=\"device_name\"                default=\"/dev/ttyUSB0\"/>\n",
    "<arg name=\"baud_rate\"                  default=\"3000000\"/>\n",
    "<arg name=\"latency_timer\"              default=\"1\"/>\n",
    "<arg name=\"scan_range\"                 default=\"10\"/>"
   ]
  },
  {
   "cell_type": "markdown",
   "metadata": {},
   "source": [
    "In this case the **baud rate** was **TOO LOW**. How do I know the Correct value? With this command:"
   ]
  },
  {
   "cell_type": "raw",
   "metadata": {},
   "source": [
    "stty < /dev/ttyUSB0"
   ]
  },
  {
   "cell_type": "markdown",
   "metadata": {},
   "source": [
    "Output:"
   ]
  },
  {
   "cell_type": "raw",
   "metadata": {},
   "source": [
    "speed 3000000 baud; line = 0;\n",
    "intr = <undef>; quit = <undef>; erase = <undef>; kill = <undef>; eof = <undef>; start = <undef>; stop = <undef>; susp = <undef>; rprnt = <undef>; werase = <undef>;\n",
    "lnext = <undef>; discard = <undef>; min = 0; time = 0;\n",
    "-brkint -icrnl -imaxbel\n",
    "-opost -onlcr\n",
    "-isig -icanon -iexten -echo -echoe -echok -echoctl -echoke"
   ]
  },
  {
   "cell_type": "markdown",
   "metadata": {},
   "source": [
    "speed **3000000**."
   ]
  },
  {
   "cell_type": "markdown",
   "metadata": {},
   "source": [
    "# ROS systems that we have:"
   ]
  },
  {
   "cell_type": "code",
   "execution_count": null,
   "metadata": {
    "collapsed": true
   },
   "outputs": [],
   "source": [
    "rostopic list\n",
    "/dynamixel_state\n",
    "/goal_dynamixel_position\n",
    "/joint_states\n",
    "/rosout\n",
    "/rosout_agg\n"
   ]
  },
  {
   "cell_type": "markdown",
   "metadata": {},
   "source": [
    "### dynamixel_state: All the joints Info"
   ]
  },
  {
   "cell_type": "code",
   "execution_count": null,
   "metadata": {
    "collapsed": true
   },
   "outputs": [],
   "source": [
    "rostopic info /dynamixel_state \n",
    "Type: dynamixel_workbench_msgs/DynamixelStateList"
   ]
  },
  {
   "cell_type": "code",
   "execution_count": null,
   "metadata": {
    "collapsed": true
   },
   "outputs": [],
   "source": [
    "dynamixel_workbench_msgs/DynamixelState[] dynamixel_state\n",
    "  string model_name\n",
    "  uint8 id\n",
    "  uint8 torque_enable\n",
    "  int16 goal_current\n",
    "  int32 goal_velocity\n",
    "  int32 goal_position\n",
    "  int16 present_current\n",
    "  int32 present_velocity\n",
    "  int32 present_position\n",
    "  uint8 moving\n"
   ]
  },
  {
   "cell_type": "code",
   "execution_count": null,
   "metadata": {
    "collapsed": true
   },
   "outputs": [],
   "source": [
    "reset;rostopic echo /dynamixel_state/dynamixel_state[0]"
   ]
  },
  {
   "cell_type": "code",
   "execution_count": null,
   "metadata": {
    "collapsed": true
   },
   "outputs": [],
   "source": [
    "model_name: \"XM430-W350\"\n",
    "id: 1\n",
    "torque_enable: 1\n",
    "goal_current: 0\n",
    "goal_velocity: 350\n",
    "goal_position: 2041\n",
    "present_current: 0\n",
    "present_velocity: 0\n",
    "present_position: 2040\n",
    "moving: 0\n"
   ]
  },
  {
   "cell_type": "markdown",
   "metadata": {},
   "source": [
    "#### model_name: The Model of the dynamixel motor."
   ]
  },
  {
   "cell_type": "code",
   "execution_count": null,
   "metadata": {
    "collapsed": true
   },
   "outputs": [],
   "source": [
    "- \n",
    "  model_name: \"XM430-W350\"\n",
    "  id: 1\n",
    "  torque_enable: 1\n",
    "  goal_current: 0\n",
    "  goal_velocity: 350\n",
    "  goal_position: 2041\n",
    "  present_current: 0\n",
    "  present_velocity: 0\n",
    "  present_position: 2040\n",
    "  moving: 0\n",
    "- \n",
    "  model_name: \"XM540-W270\"\n",
    "  id: 2\n",
    "  torque_enable: 1\n",
    "  goal_current: 0\n",
    "  goal_velocity: 128\n",
    "  goal_position: 2640\n",
    "  present_current: 0\n",
    "  present_velocity: 0\n",
    "  present_position: 2642\n",
    "  moving: 0\n",
    "- \n",
    "  model_name: \"XM540-W270\"\n",
    "  id: 3\n",
    "  torque_enable: 1\n",
    "  goal_current: 0\n",
    "  goal_velocity: 278\n",
    "  goal_position: 519\n",
    "  present_current: 0\n",
    "  present_velocity: 0\n",
    "  present_position: 519\n",
    "  moving: 0\n",
    "- \n",
    "  model_name: \"XM430-W350\"\n",
    "  id: 4\n",
    "  torque_enable: 1\n",
    "  goal_current: 0\n",
    "  goal_velocity: 350\n",
    "  goal_position: 2037\n",
    "  present_current: 0\n",
    "  present_velocity: 0\n",
    "  present_position: 2037\n",
    "  moving: 0\n",
    "- \n",
    "  model_name: \"XM430-W350\"\n",
    "  id: 5\n",
    "  torque_enable: 1\n",
    "  goal_current: 0\n",
    "  goal_velocity: 350\n",
    "  goal_position: 991\n",
    "  present_current: 0\n",
    "  present_velocity: 0\n",
    "  present_position: 992\n",
    "  moving: 0\n",
    "- \n",
    "  model_name: \"XM430-W350\"\n",
    "  id: 6\n",
    "  torque_enable: 1\n",
    "  goal_current: 0\n",
    "  goal_velocity: 350\n",
    "  goal_position: 2083\n",
    "  present_current: 0\n",
    "  present_velocity: 0\n",
    "  present_position: 2083\n",
    "  moving: 0\n",
    "- \n",
    "  model_name: \"XM430-W350\"\n",
    "  id: 7\n",
    "  torque_enable: 1\n",
    "  goal_current: 0\n",
    "  goal_velocity: 350\n",
    "  goal_position: 1409\n",
    "  present_current: 0\n",
    "  present_velocity: 0\n",
    "  present_position: 1409\n",
    "  moving: 0\n",
    "---\n"
   ]
  },
  {
   "cell_type": "code",
   "execution_count": null,
   "metadata": {
    "collapsed": true
   },
   "outputs": [],
   "source": [
    "Not All of them are the same model:"
   ]
  },
  {
   "cell_type": "markdown",
   "metadata": {},
   "source": [
    "Joints 2 and 3 = XM540-W270, **More Powerfull** ( http://support.robotis.com/en/product/actuator/dynamixel_x/xm_series/xm540-w270.htm )\n",
    "<br>\n",
    "The rest (1,4,5,6,7) = XM430-W350 (http://support.robotis.com/en/product/actuator/dynamixel_x/xm_series/xm430-w350.htm)"
   ]
  },
  {
   "cell_type": "markdown",
   "metadata": {},
   "source": [
    "#### present_position: The position in which the servo is. Its based on clicks ( from absolute the encoders), not in degrees or radians. POSITION SENSOR : Contactless absolute encoder (12BIT,360 DEGREE)"
   ]
  },
  {
   "cell_type": "markdown",
   "metadata": {},
   "source": [
    "### /goal_dynamixel_position"
   ]
  },
  {
   "cell_type": "code",
   "execution_count": null,
   "metadata": {
    "collapsed": true
   },
   "outputs": [],
   "source": [
    "rostopic info /goal_dynamixel_position\n",
    "Type: sensor_msgs/JointState\n",
    "\n",
    "Publishers: None\n",
    "\n",
    "Subscribers: \n",
    " * /position_control (http://rdaneel-laptop:35360/)\n"
   ]
  },
  {
   "cell_type": "markdown",
   "metadata": {},
   "source": [
    "We can see that its waiting for a command to be sent , in order to move."
   ]
  },
  {
   "cell_type": "markdown",
   "metadata": {},
   "source": [
    "### /joint_states"
   ]
  },
  {
   "cell_type": "code",
   "execution_count": null,
   "metadata": {
    "collapsed": true
   },
   "outputs": [],
   "source": [
    "rostopic info /joint_states\n",
    "Type: sensor_msgs/JointState\n",
    "\n",
    "Publishers: \n",
    " * /position_control (http://rdaneel-laptop:35360/)\n",
    "\n",
    "Subscribers: None"
   ]
  },
  {
   "cell_type": "markdown",
   "metadata": {},
   "source": [
    "This is basically the conversion of the data from the dynamixel_state into roslike joint state, used for Moveit, RVIZ and all the ROS systems: "
   ]
  },
  {
   "cell_type": "code",
   "execution_count": null,
   "metadata": {
    "collapsed": true
   },
   "outputs": [],
   "source": [
    "rostopic echo /joint_states -n1"
   ]
  },
  {
   "cell_type": "code",
   "execution_count": null,
   "metadata": {
    "collapsed": true
   },
   "outputs": [],
   "source": [
    "header: \n",
    "  seq: 8432\n",
    "  stamp: \n",
    "    secs: 1562839429\n",
    "    nsecs: 633347588\n",
    "  frame_id: ''\n",
    "name: [id_1, id_2, id_3, id_4, id_5, id_6, id_7]\n",
    "position: [-0.013805827125906944, 0.9111846089363098, -2.345456600189209, -0.016873789951205254, -1.621417760848999, 0.052155349403619766, -0.9802137613296509]\n",
    "velocity: [0.0, 0.0, 0.0, 0.0, 0.0, 0.0, 0.0]\n",
    "effort: []\n"
   ]
  },
  {
   "cell_type": "markdown",
   "metadata": {},
   "source": [
    "The angles are in radians , which is quite usefull and its much more compact the information."
   ]
  },
  {
   "cell_type": "markdown",
   "metadata": {},
   "source": [
    "## How to change the position of the Joints"
   ]
  },
  {
   "cell_type": "code",
   "execution_count": null,
   "metadata": {
    "collapsed": true
   },
   "outputs": [],
   "source": [
    "rostopic pub /goal_dynamixel_position sensor_msgs/JointState [TAB][TAB]"
   ]
  },
  {
   "cell_type": "markdown",
   "metadata": {},
   "source": [
    "We will the data with for example the same data as the current **/joint_states** , just changing the id_1 angle to 0.7. This should move the first servo, which is the one in the base, 45 degrees ( 0.7 radians )"
   ]
  },
  {
   "cell_type": "code",
   "execution_count": null,
   "metadata": {
    "collapsed": true
   },
   "outputs": [],
   "source": [
    "rostopic pub /goal_dynamixel_position sensor_msgs/JointState \"header:\n",
    "  seq: 0\n",
    "  stamp: {secs: 0, nsecs: 0}\n",
    "  frame_id: ''\n",
    "name: ['id_1','id_2', 'id_3', 'id_4', 'id_5', 'id_6', 'id_7']\n",
    "position: [0.7, 0.9111846089363098, -2.345456600189209, -0.016873789951205254, -1.621417760848999, 0.052155349403619766, -0.9802137613296509]\n",
    "velocity: [0.0, 0.0, 0.0, 0.0, 0.0, 0.0, 0.0]\n",
    "effort: [0]\" \n"
   ]
  },
  {
   "cell_type": "markdown",
   "metadata": {},
   "source": [
    "## Use Service to move Joints:"
   ]
  },
  {
   "cell_type": "code",
   "execution_count": null,
   "metadata": {
    "collapsed": true
   },
   "outputs": [],
   "source": [
    "rosservice list"
   ]
  },
  {
   "cell_type": "markdown",
   "metadata": {},
   "source": [
    "Output:"
   ]
  },
  {
   "cell_type": "code",
   "execution_count": null,
   "metadata": {
    "collapsed": true
   },
   "outputs": [],
   "source": [
    "/joint_command\n",
    "/position_control/get_loggers\n",
    "/position_control/set_logger_level\n",
    "/rosout/get_loggers\n",
    "/rosout/set_logger_level"
   ]
  },
  {
   "cell_type": "code",
   "execution_count": null,
   "metadata": {
    "collapsed": true
   },
   "outputs": [],
   "source": [
    "rossrv show dynamixel_workbench_msgs/JointCommand\n",
    "string unit\n",
    "uint8 id\n",
    "float32 goal_position\n",
    "---\n",
    "bool result\n"
   ]
  },
  {
   "cell_type": "code",
   "execution_count": null,
   "metadata": {
    "collapsed": true
   },
   "outputs": [],
   "source": [
    "unit: It can be 'rad', 'raw' or nothing."
   ]
  },
  {
   "cell_type": "markdown",
   "metadata": {},
   "source": [
    "Wht is this **raw** ? Well its those ticks we saw in **/dynamixel_state/dynamixel_state[0]**."
   ]
  },
  {
   "cell_type": "code",
   "execution_count": null,
   "metadata": {
    "collapsed": true
   },
   "outputs": [],
   "source": [
    "model_name: \"XM430-W350\"\n",
    "id: 1\n",
    "torque_enable: 1\n",
    "goal_current: 0\n",
    "goal_velocity: 350\n",
    "goal_position: 2048\n",
    "present_current: 0\n",
    "present_velocity: 0\n",
    "present_position: 2035\n",
    "moving: 0\n"
   ]
  },
  {
   "cell_type": "markdown",
   "metadata": {},
   "source": [
    "If we select raw or nothing ( teh effect is the same ), we have to give it the **click** value as we called it previously of the absolute encoder."
   ]
  },
  {
   "cell_type": "markdown",
   "metadata": {},
   "source": [
    "These two commands are identical. 1000 click are 1.57 radians more or less. Just that there arent any negative values, it goes from 0-4000"
   ]
  },
  {
   "cell_type": "code",
   "execution_count": null,
   "metadata": {
    "collapsed": true
   },
   "outputs": [],
   "source": [
    "rosservice call /joint_command \"unit: 'rad'\n",
    "id: 1\n",
    "goal_position: -1.57\""
   ]
  },
  {
   "cell_type": "code",
   "execution_count": null,
   "metadata": {
    "collapsed": true
   },
   "outputs": [],
   "source": [
    "rosservice call /joint_command \"unit: 'raw'\n",
    "id: 1\n",
    "goal_position: 1000\""
   ]
  },
  {
   "cell_type": "markdown",
   "metadata": {},
   "source": [
    "If its not able to get to that position, the **response** of the service will be **False**."
   ]
  },
  {
   "cell_type": "markdown",
   "metadata": {},
   "source": [
    "# Practice: Create ROS python NODE that allows us to move the servos."
   ]
  },
  {
   "cell_type": "markdown",
   "metadata": {},
   "source": [
    "We have two options:\n",
    "* We move it with a Service Client ( /joint_command ): We can only move one joint at a time, but it waits until movement finished.\n",
    "* We move it pùblishing in a Topic ( /goal_dynamixel_position ): Moves everything at the same time, but there is no wait."
   ]
  },
  {
   "cell_type": "markdown",
   "metadata": {},
   "source": [
    "We are going to create a python class that allows us to use both:"
   ]
  },
  {
   "cell_type": "markdown",
   "metadata": {},
   "source": [
    "<table style=\"float:left;background: #407EAF\">\n",
    "<tr>\n",
    "<th>\n",
    "<p class=\"transparent\">Execute in WebShell #1</p>\n",
    "</th>\n",
    "</tr>\n",
    "</table>"
   ]
  },
  {
   "cell_type": "code",
   "execution_count": null,
   "metadata": {
    "collapsed": true
   },
   "outputs": [],
   "source": [
    "cd ~/open_manipulator_ws\n",
    "source devel/setup.bash\n",
    "rospack profile\n",
    "catkin_create_pkg openmanipulator_morpheus_chair_tutorials rospy dynamixel_workbench_msgs sensor_msgs\n",
    "cd openmanipulator_morpheus_chair_tutorials\n",
    "mkdir scripts\n",
    "touch scripts/move_openmanipulator.py\n",
    "chmod +x scripts/move_openmanipulator.py"
   ]
  },
  {
   "cell_type": "markdown",
   "metadata": {},
   "source": [
    "<p style=\"background:#3B8F10;color:white;\" id=\"prg-1-1\">**Python Program {1.1}: move_openmanipulator.py** </p><br>"
   ]
  },
  {
   "cell_type": "code",
   "execution_count": null,
   "metadata": {
    "collapsed": true
   },
   "outputs": [],
   "source": [
    "#! /usr/bin/env python\n",
    "\n",
    "import time\n",
    "import rospy\n",
    "from sensor_msgs.msg import JointState\n",
    "from dynamixel_workbench_msgs.srv import JointCommand, JointCommandRequest\n",
    "from std_msgs.msg import Header\n",
    "\n",
    "\n",
    "class OpenManipulatorMove(object):\n",
    "    def __init__(self):\n",
    "        rospy.loginfo(\"OpenManipulatorMove INIT...Please wait.\")\n",
    "\n",
    "        # We subscribe to the joint states to have info of the system\n",
    "\n",
    "        self.joint_states_topic_name = '/joint_states'\n",
    "        self._check_join_states_ready()\n",
    "        sub = rospy.Subscriber(self.joint_states_topic_name, JointState, self.joint_states_callback)\n",
    "\n",
    "\n",
    "        # We start the Publisher for the positions of the joints\n",
    "        self.goal_dynamixel_position_publisher = rospy.Publisher('/goal_dynamixel_position',\n",
    "                                                                    JointState,\n",
    "                                                                    queue_size=1)\n",
    "\n",
    "        # Wait for the service client /joint_command to be running\n",
    "        joint_command_service_name = \"/joint_command\"\n",
    "        rospy.wait_for_service(joint_command_service_name)\n",
    "        # Create the connection to the service\n",
    "        self.joint_command_service = rospy.ServiceProxy(joint_command_service_name, JointCommand)\n",
    "\n",
    "        rospy.loginfo(\"OpenManipulatorMove Ready!\")\n",
    "\n",
    "    def joint_states_callback(self,msg):\n",
    "        \"\"\"\n",
    "        rosmsg show sensor_msgs/JointState\n",
    "            std_msgs/Header header\n",
    "              uint32 seq\n",
    "              time stamp\n",
    "              string frame_id\n",
    "            string[] name\n",
    "            float64[] position\n",
    "            float64[] velocity\n",
    "            float64[] effort\n",
    "\n",
    "        :param msg:\n",
    "        :return:\n",
    "        \"\"\"\n",
    "        self.joint_states_msg = msg\n",
    "\n",
    "    def _check_join_states_ready(self):\n",
    "        self.joint_states_msg = None\n",
    "        rospy.logdebug(\"Waiting for \"+self.joint_states_topic_name+\" to be READY...\")\n",
    "        while self.joint_states_msg is None and not rospy.is_shutdown():\n",
    "            try:\n",
    "                self.joint_states_msg = rospy.wait_for_message(self.joint_states_topic_name, JointState, timeout=5.0)\n",
    "                rospy.logdebug(\"Current \"+self.joint_states_topic_name+\" READY=>\")\n",
    "\n",
    "            except:\n",
    "                rospy.logerr(\"Current \"+self.joint_states_topic_name+\" not ready yet, retrying \")\n",
    "\n",
    "    def move_all_joints(self, position_array):\n",
    "\n",
    "        rospy.logwarn(\"move_all_joints STARTED\")\n",
    "        # We check that the position array has the correct number of elements\n",
    "        number_of_joints = len(self.joint_states_msg.name)\n",
    "\n",
    "        if len(position_array) == number_of_joints:\n",
    "            if self.check_gripper_pos_safe(position_array[6]):\n",
    "                new_joint_position = JointState()\n",
    "\n",
    "                h = Header()\n",
    "                h.stamp = rospy.Time.now()  # Note you need to call rospy.init_node() before this will work\n",
    "                h.frame_id = self.joint_states_msg.header.frame_id\n",
    "\n",
    "                new_joint_position.header = h\n",
    "                new_joint_position.name = self.joint_states_msg.name\n",
    "                new_joint_position.position = position_array\n",
    "\n",
    "                # These values arent used, so they dont matter really\n",
    "                new_joint_position.velocity = self.joint_states_msg.velocity\n",
    "                new_joint_position.effort = self.joint_states_msg.effort\n",
    "\n",
    "                rospy.logwarn(\"PUBLISH STARTED\")\n",
    "                self.goal_dynamixel_position_publisher.publish(new_joint_position)\n",
    "                rospy.logwarn(\"PUBLISH FINISHED\")\n",
    "            else:\n",
    "                rospy.logerr(\"Gripper position NOT valid=\" + str(position_array[6]))\n",
    "        else:\n",
    "            rospy.logerr(\"The Array given doesnt have the correct length=\"+str(number_of_joints))\n",
    "\n",
    "        rospy.logwarn(\"move_all_joints FINISHED\")\n",
    "\n",
    "\n",
    "    def move_one_joint(self, joint_id, position, unit=\"rad\"):\n",
    "        \"\"\"\n",
    "        rossrv show dynamixel_workbench_msgs/JointCommand\n",
    "            string unit\n",
    "            uint8 id\n",
    "            float32 goal_position\n",
    "            ---\n",
    "            bool result\n",
    "\n",
    "        :param joint_id:\n",
    "        :param position:\n",
    "        :param units:\n",
    "        :return:\n",
    "        \"\"\"\n",
    "        joint_cmd_req = JointCommandRequest()\n",
    "        joint_cmd_req.unit = unit\n",
    "        joint_cmd_req.id = joint_id\n",
    "        joint_cmd_req.goal_position = position\n",
    "\n",
    "        if joint_id == 7:\n",
    "            rospy.logwarn(\"CHECKING Gripper Value is safe?\")\n",
    "            if self.check_gripper_pos_safe(position):\n",
    "\n",
    "                # Send through the connection the name of the object to be deleted by the service\n",
    "                result = self.joint_command_service(joint_cmd_req)\n",
    "                rospy.logwarn(\"move_one_joint went ok?=\"+str(result))\n",
    "            else:\n",
    "                rospy.logwarn(\"Gripper Value Not safe=\" + str(position))\n",
    "        else:\n",
    "            # Send through the connection the name of the object to be deleted by the service\n",
    "            result = self.joint_command_service(joint_cmd_req)\n",
    "            rospy.logwarn(\"move_one_joint went ok?=\" + str(result))\n",
    "\n",
    "    def get_joint_names(self):\n",
    "        return self.joint_states_msg.name\n",
    "\n",
    "\n",
    "    def check_gripper_pos_safe(self, gripper_value):\n",
    "        \"\"\"\n",
    "        We need to check that the gripper pos is -1.0 > position[6] > -3.14\n",
    "        Otherwise it gets jammed\n",
    "        :param gripper_value:\n",
    "        :return:\n",
    "        \"\"\"\n",
    "        return (-0.5 > gripper_value > -2.0)\n",
    "\n",
    "def movement_sequence_test():\n",
    "\n",
    "    openman_obj = OpenManipulatorMove()\n",
    "\n",
    "    # NOD\n",
    "    joint_position_home = [0.08743690699338913, 1.0385050773620605, -2.345456600189209, -0.016873789951205254,\n",
    "                           -1.4818254709243774, 0.0015339808305725455, -1.0599807500839233]\n",
    "    joint_position1 = [0.8897088766098022, 0.6059224009513855, -1.4419419765472412, -0.016873789951205254,\n",
    "                       -1.4818254709243774, 0.0015339808305725455, -1.0599807500839233]\n",
    "    joint_position2 = [0.8912428617477417, 0.5859806537628174, -1.6060779094696045, -0.016873789951205254,\n",
    "                       -0.8191457390785217, 0.004601942375302315, -1.0599807500839233]\n",
    "    joint_position3 = [0.8897088766098022, 0.6028544902801514, -1.8745245933532715, -0.015339808538556099,\n",
    "                       0.5292233824729919, 0.003067961661145091, -1.0599807500839233]\n",
    "\n",
    "\n",
    "    # SAY NO\n",
    "    joint_left = [0.44332045316696167, 1.0630487203598022, -2.345456600189209, 0.5568350553512573, -1.483359456062317,\n",
    "                  0.004601942375302315, -1.0599807500839233]\n",
    "    joint_right = [-0.20862139761447906, 1.0906603336334229, -2.3071072101593018, -0.6488738656044006,\n",
    "                   -1.483359456062317, -0.4417864680290222, -1.0599807500839233]\n",
    "    joint_middle = [0.0076699042692780495, 1.1274758577346802, -2.325515031814575, 0.3344078063964844,\n",
    "                    -1.4848934412002563, 0.46172821521759033, -1.0599807500839233]\n",
    "\n",
    "    joint_position_sequence_nod = []\n",
    "    joint_position_sequence_nod.append(joint_position_home)\n",
    "    joint_position_sequence_nod.append(joint_position1)\n",
    "    joint_position_sequence_nod.append(joint_position2)\n",
    "    joint_position_sequence_nod.append(joint_position3)\n",
    "    joint_position_sequence_nod.append(joint_position2)\n",
    "    joint_position_sequence_nod.append(joint_position3)\n",
    "    joint_position_sequence_nod.append(joint_position1)\n",
    "    joint_position_sequence_nod.append(joint_position_home)\n",
    "\n",
    "    joint_position_sequence_say_no = []\n",
    "    joint_position_sequence_nod.append(joint_position_home)\n",
    "    joint_position_sequence_nod.append(joint_left)\n",
    "    joint_position_sequence_nod.append(joint_middle)\n",
    "    joint_position_sequence_nod.append(joint_right)\n",
    "    joint_position_sequence_nod.append(joint_left)\n",
    "    joint_position_sequence_nod.append(joint_middle)\n",
    "    joint_position_sequence_nod.append(joint_right)\n",
    "    joint_position_sequence_nod.append(joint_position_home)\n",
    "\n",
    "\n",
    "\n",
    "    for joint_position_array in joint_position_sequence_nod:\n",
    "        openman_obj.move_all_joints(joint_position_array)\n",
    "        time.sleep(0.5)\n",
    "\n",
    "    for joint_position_array in joint_position_sequence_say_no:\n",
    "        openman_obj.move_all_joints(joint_position_array)\n",
    "        time.sleep(0.9)\n",
    "\n",
    "def move_joints_test():\n",
    "    \"\"\"\n",
    "    This is for Geting the positions of the joints without testing them\n",
    "    live, which is quite dangerous!\n",
    "    :return:\n",
    "    \"\"\"\n",
    "    openman_obj = OpenManipulatorMove()\n",
    "    joint_names = openman_obj.get_joint_names()\n",
    "    rospy.logwarn(\"Starting Moving Joints GUI...\")\n",
    "    while not rospy.is_shutdown():\n",
    "        rospy.logwarn(\"#######\"+str(joint_names)+\"#####\")\n",
    "        joint_id = int(raw_input(\"Joint ID=\"))\n",
    "        joint_position = float(raw_input(\"Joint Position Radians=\"))\n",
    "        openman_obj.move_one_joint(joint_id, joint_position, unit=\"rad\")\n",
    "        rospy.logwarn(\"####################\")\n",
    "\n",
    "\n",
    "if __name__ == \"__main__\":\n",
    "    rospy.init_node('move_openmanipulator_node', log_level=rospy.WARN)\n",
    "    #move_joints_test()\n",
    "    movement_sequence_test()"
   ]
  },
  {
   "cell_type": "markdown",
   "metadata": {},
   "source": [
    "<p style=\"background:#3B8F10;color:white;\" id=\"prg-1-1\">END **Python Program {1.1}: move_openmanipulator.py** </p><br>"
   ]
  },
  {
   "cell_type": "markdown",
   "metadata": {},
   "source": [
    "Check that you ahve launchded the **roslaunch open_manipulator_core controller_launch.launch** in the PC connected to your RobotARM."
   ]
  },
  {
   "cell_type": "markdown",
   "metadata": {},
   "source": [
    "Now you can launch this in any device connected through ROS to the RobotsDevice, or the same RobotsDevicePC."
   ]
  },
  {
   "cell_type": "code",
   "execution_count": null,
   "metadata": {
    "collapsed": true
   },
   "outputs": [],
   "source": [
    "rosrun openmanipulator_morpheus_chair_tutorials move_openmanipulator.py"
   ]
  },
  {
   "cell_type": "markdown",
   "metadata": {},
   "source": [
    "# APENDIX"
   ]
  },
  {
   "cell_type": "markdown",
   "metadata": {},
   "source": [
    "## Tip to get complex poses quickly:"
   ]
  },
  {
   "cell_type": "markdown",
   "metadata": {},
   "source": [
    "* Step1: Position the arm as you wish when the control isnt on, and leave it there with the help of someone.\n",
    "* Step2: Turn on the control (**roslaunch dynamixel_workbench_controllers position_control.launch**), now the joints are stiff\n",
    "* Step3: **rostopic echo /joint_states/position -n1**"
   ]
  },
  {
   "cell_type": "markdown",
   "metadata": {},
   "source": [
    "And there you will have the exact position of all the joints. You now just have to feed that you your **move_openmanipulator.py**."
   ]
  },
  {
   "cell_type": "markdown",
   "metadata": {},
   "source": [
    "## What can I do when my Gripper doesnt move?!"
   ]
  },
  {
   "cell_type": "markdown",
   "metadata": {},
   "source": [
    "If you have followed the gripper design that we show here, its very probable that it jot jammed and it didnt move anymore. Just power everything OFF, and gently rotate the gripper AXIS actuator to a more open pose. NEVE send a command to the gripper Bigger than **-0.5** ( CLOSE ), **-2.0** ( OPEN )."
   ]
  },
  {
   "cell_type": "markdown",
   "metadata": {},
   "source": [
    "## Rate Doesnt work properly?"
   ]
  },
  {
   "cell_type": "code",
   "execution_count": null,
   "metadata": {
    "collapsed": true
   },
   "outputs": [],
   "source": [
    "    rateobj =  rospy.Rate(10.0)\n",
    "\n",
    "    for joint_position_array in joint_position_sequence_nod:\n",
    "        openman_obj.move_all_joints(joint_position_array)\n",
    "        rateobj.sleep()\n",
    "\n",
    "    rateobj2 = rospy.Rate(1.0)\n",
    "\n",
    "    for joint_position_array in joint_position_sequence_say_no:\n",
    "        openman_obj.move_all_joints(joint_position_array)\n",
    "        rateobj2.sleep()"
   ]
  },
  {
   "cell_type": "markdown",
   "metadata": {},
   "source": [
    "You would think that this would make the first movemment go fast and the second go slow. But it seems that the one the counts is the first rateobject. So its preferable to use time.sleep()"
   ]
  }
 ],
 "metadata": {
  "kernelspec": {
   "display_name": "Python 2",
   "language": "python",
   "name": "python2"
  },
  "language_info": {
   "codemirror_mode": {
    "name": "ipython",
    "version": 2
   },
   "file_extension": ".py",
   "mimetype": "text/x-python",
   "name": "python",
   "nbconvert_exporter": "python",
   "pygments_lexer": "ipython2",
   "version": "2.7.12"
  }
 },
 "nbformat": 4,
 "nbformat_minor": 2
}
