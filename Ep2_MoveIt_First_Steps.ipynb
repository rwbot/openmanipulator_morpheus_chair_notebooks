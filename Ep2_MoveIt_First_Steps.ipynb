{
 "cells": [
  {
   "cell_type": "markdown",
   "metadata": {},
   "source": [
    "# Ep 2: MoveIt! First Steps"
   ]
  },
  {
   "cell_type": "markdown",
   "metadata": {},
   "source": [
    "## Get a URDF and create a Moveit! Package"
   ]
  },
  {
   "cell_type": "code",
   "execution_count": null,
   "metadata": {
    "collapsed": true
   },
   "outputs": [],
   "source": [
    "roscd open_manipulator_support_description/urdf\n",
    "ls open_manipulator_support.urdf.xacro"
   ]
  },
  {
   "cell_type": "markdown",
   "metadata": {},
   "source": [
    "Lets have a look at the Files in the IDE -->"
   ]
  },
  {
   "cell_type": "markdown",
   "metadata": {},
   "source": [
    "Now lets open the **Moveit!Wizard**:"
   ]
  },
  {
   "cell_type": "markdown",
   "metadata": {},
   "source": [
    "<table style=\"float:left;background: #407EAF\">\n",
    "<tr>\n",
    "<th>\n",
    "<p class=\"transparent\">Execute in WebShell #1</p>\n",
    "</th>\n",
    "</tr>\n",
    "</table>\n",
    "<br>"
   ]
  },
  {
   "cell_type": "code",
   "execution_count": null,
   "metadata": {
    "collapsed": true
   },
   "outputs": [],
   "source": [
    "cd ~/catkin_ws/src\n",
    "roslaunch moveit_setup_assistant setup_assistant.launch"
   ]
  },
  {
   "cell_type": "markdown",
   "metadata": {},
   "source": [
    "Open the Graphical tools:"
   ]
  },
  {
   "cell_type": "markdown",
   "metadata": {},
   "source": [
    "<img src=\"images/graphtools1.png\"/>"
   ]
  },
  {
   "cell_type": "markdown",
   "metadata": {},
   "source": [
    "If the windows appear decentered click this button"
   ]
  },
  {
   "cell_type": "markdown",
   "metadata": {},
   "source": [
    "<img src=\"images/graphtools2.png\"/>"
   ]
  },
  {
   "cell_type": "markdown",
   "metadata": {},
   "source": [
    "We should get something like this:"
   ]
  },
  {
   "cell_type": "markdown",
   "metadata": {},
   "source": [
    "<img src=\"images/moveitwizard1.png\"/>"
   ]
  },
  {
   "cell_type": "markdown",
   "metadata": {},
   "source": [
    "<img src=\"images/moveitwizard2.png\"/>"
   ]
  },
  {
   "cell_type": "markdown",
   "metadata": {},
   "source": [
    "<img src=\"images/moveitwizard3.png\"/>"
   ]
  },
  {
   "cell_type": "markdown",
   "metadata": {},
   "source": [
    "<img src=\"images/moveitwizard4.png\"/>"
   ]
  },
  {
   "cell_type": "markdown",
   "metadata": {},
   "source": [
    "Hover over the robot sim panel and zoom in with the scroll wheel ( or pinch in MAC)"
   ]
  },
  {
   "cell_type": "markdown",
   "metadata": {},
   "source": [
    "<img src=\"images/moveitwizard5.png\"/>"
   ]
  },
  {
   "cell_type": "markdown",
   "metadata": {},
   "source": [
    "## Generate Collision Matrix:"
   ]
  },
  {
   "cell_type": "markdown",
   "metadata": {},
   "source": [
    "The first thing that is vital for a robotarm when it moves , is to **NOT HIT ITSELF**. Which seems dumb but, its really common way to break a throusand euros robot arm if it doesnt have the correct safte features like peack torke detection or some kind of external perception."
   ]
  },
  {
   "cell_type": "markdown",
   "metadata": {},
   "source": [
    "We have to generate what is called :**Self-Collision Matrix**. To do it we use the **Self-Collision Matrix Generator** We need to generate this matrix because:\n",
    "* Doing this we detect which **links will collide with each other** when moving.\n",
    "* We will detect also the **links which will never collide with each other**, which then we can **remove the autocollisions calculations** for them , lowering the burden in the processing.\n",
    "* Detect which **links will be always in collision** and therefore we supose that its normal and therefore we also disable the calculations.\n",
    "* Disable also the **links adjacent in the kinematic chain** which obviously we will disable also their autocollisions. "
   ]
  },
  {
   "cell_type": "markdown",
   "metadata": {},
   "source": [
    " Value is **10,000 collision means how many random robot positions to check for self collision**. The Higher the better collision detection matrix it generates, but we will need more time and processing power in paralel."
   ]
  },
  {
   "cell_type": "markdown",
   "metadata": {},
   "source": [
    "Min Collisions of 95% means that for considering that the pair is **always colliding** has to be 95% of all the random positions tested."
   ]
  },
  {
   "cell_type": "markdown",
   "metadata": {},
   "source": [
    "<img src=\"images/autocollision_matrix1.png\"/>"
   ]
  },
  {
   "cell_type": "markdown",
   "metadata": {},
   "source": [
    "<img src=\"images/autocollision_matrix4.png\"/>"
   ]
  },
  {
   "cell_type": "markdown",
   "metadata": {},
   "source": [
    "<img src=\"images/autocollision_matrix2.png\"/>"
   ]
  },
  {
   "cell_type": "markdown",
   "metadata": {},
   "source": [
    "<img src=\"images/autocollision_matrix3.png\"/>"
   ]
  },
  {
   "cell_type": "markdown",
   "metadata": {},
   "source": [
    "As you can see, in our case, 10.000 gives the same result as 100.000, therefore 10.000 was enough. In more complex robotic arms or other systems, the more links and joints , the higher number it has to be to test a bigger range of movements."
   ]
  },
  {
   "cell_type": "markdown",
   "metadata": {},
   "source": [
    "Note that because this is random, it could be that everytime you execute this, the matrix apperas a bit different:"
   ]
  },
  {
   "cell_type": "markdown",
   "metadata": {},
   "source": [
    "<img src=\"images/10000_collisionmatrix.png\"/>"
   ]
  },
  {
   "cell_type": "markdown",
   "metadata": {},
   "source": [
    "<img src=\"images/10000_collisionsmatrix_v2.png\"/>"
   ]
  },
  {
   "cell_type": "markdown",
   "metadata": {
    "collapsed": true
   },
   "source": [
    "Here Link7 with Link1 appear sometimes colliding and sometimes not. This depends on the random positions that were tested. **If you doubt, get the most retrictive version.**"
   ]
  },
  {
   "cell_type": "markdown",
   "metadata": {
    "collapsed": true
   },
   "source": [
    "<img src=\"images/10000_collisionsmatrix_final.png\"/>"
   ]
  },
  {
   "cell_type": "markdown",
   "metadata": {},
   "source": [
    "## Virtual Joints"
   ]
  },
  {
   "cell_type": "markdown",
   "metadata": {
    "collapsed": true
   },
   "source": [
    "<img src=\"images/virtualjoints1.png\"/>"
   ]
  },
  {
   "cell_type": "markdown",
   "metadata": {
    "collapsed": true
   },
   "source": [
    "<img src=\"images/virtualjoints2.png\"/>"
   ]
  },
  {
   "cell_type": "markdown",
   "metadata": {},
   "source": [
    "A robot that moves around a plane is specified using a planar virtual joint that connnects the world frame to the frame of the robot.\n",
    "A robot that doesnt move,will use a fixed joint to connect the base frame to the world."
   ]
  },
  {
   "cell_type": "markdown",
   "metadata": {},
   "source": [
    "In our case we select:\n",
    "* Name: virtual_joint ( just to know its a virtual joint )\n",
    "* Parent: world\n",
    "* Child: the base_link , that we want to connect to world.\n",
    "* Joint Type: Fixed, because we wont move."
   ]
  },
  {
   "cell_type": "markdown",
   "metadata": {},
   "source": [
    "You can play with this because, what if we select as parent a link of another robot, like a turtlebot that **moves around**? Thes ethings we will go deepre when the time comes."
   ]
  },
  {
   "cell_type": "markdown",
   "metadata": {},
   "source": [
    "** DONT FORGET TO HIT SAVE**"
   ]
  },
  {
   "cell_type": "markdown",
   "metadata": {},
   "source": [
    "### Planning Groups"
   ]
  },
  {
   "cell_type": "markdown",
   "metadata": {},
   "source": [
    "Doing Inverese Kinematics is computationaly very intensive. This menas that the simpler the kinematics to solve the better.\n",
    "Thats why normally we divide a robot in the maximum parts that allow a correct and easy IK calculations.\n",
    "Ex: a robot with TWO arms, normally will be divided into LEFT_ARM and RIGHT_ARM, because we dont need to solve inverse kinematics for both, but it all depends on the use case."
   ]
  },
  {
   "cell_type": "markdown",
   "metadata": {},
   "source": [
    "We will choose the following:\n",
    "* Solver: kdl_kinematics_plugin/KDLKinematicsPlugin as the kinematics solver. This is the plugin in charge of calculate the inverse kinematics. Its a generic Kinematic solver, that will be ok for now. Its the default one in Moveit!. It only works with Serial Kinematics Chains ( tensefrities and things like that wont work).\n",
    "\n",
    "* Name: **openmanipulator_arm** seems appropriate.\n",
    "* Kin Solv. Attempts: 3 seems reasonable.\n",
    "* Planner: for now we leave this none\n",
    "* **We add the joins!**"
   ]
  },
  {
   "cell_type": "markdown",
   "metadata": {},
   "source": [
    "In our case we select **ALL the Joints except the gripper**."
   ]
  },
  {
   "cell_type": "markdown",
   "metadata": {
    "collapsed": true
   },
   "source": [
    "<img src=\"images/kinematicsolver1.png\"/>"
   ]
  },
  {
   "cell_type": "markdown",
   "metadata": {
    "collapsed": true
   },
   "source": [
    "<img src=\"images/group_v2.png\"/>"
   ]
  },
  {
   "cell_type": "markdown",
   "metadata": {
    "collapsed": true
   },
   "source": [
    "<img src=\"images/group_v2_2.png\"/>"
   ]
  },
  {
   "cell_type": "markdown",
   "metadata": {
    "collapsed": true
   },
   "source": [
    "Now we add the gripper through joints also:\n",
    "* joint8\n",
    "* joint9\n",
    "* id_6"
   ]
  },
  {
   "cell_type": "markdown",
   "metadata": {},
   "source": [
    "NOTE that we are NOT adding anywhere the **LINK7** thats because it serves no purpose in the planning for the moment."
   ]
  },
  {
   "cell_type": "markdown",
   "metadata": {},
   "source": [
    "Other Kinematic Solvers:\n",
    "If you want to create a custom Kinematic Solver for your Robotics ARM: http://docs.ros.org/kinetic/api/moveit_tutorials/html/doc/ikfast/ikfast_tutorial.html\n",
    "\n",
    "Solver that in theory produces more reliable solutions than Jacobian methods in KDL:\n",
    "http://docs.ros.org/kinetic/api/moveit_tutorials/html/doc/trac_ik/trac_ik_tutorial.html\n"
   ]
  },
  {
   "cell_type": "markdown",
   "metadata": {
    "collapsed": true
   },
   "source": [
    "## Generate Premade Robot Poses"
   ]
  },
  {
   "cell_type": "markdown",
   "metadata": {
    "collapsed": true
   },
   "source": [
    "We now can store premade robot poses to set the robot in safe positions, calibration, very used positions, etc."
   ]
  },
  {
   "cell_type": "markdown",
   "metadata": {
    "collapsed": true
   },
   "source": [
    "<img src=\"images/finalpose1.png\"/>"
   ]
  },
  {
   "cell_type": "markdown",
   "metadata": {
    "collapsed": true
   },
   "source": [
    "<img src=\"images/finalpose2.png\"/>"
   ]
  },
  {
   "cell_type": "markdown",
   "metadata": {
    "collapsed": true
   },
   "source": [
    "<img src=\"images/finalpose3.png\"/>"
   ]
  },
  {
   "cell_type": "markdown",
   "metadata": {
    "collapsed": true
   },
   "source": [
    "<img src=\"images/finalpose5.png\"/>"
   ]
  },
  {
   "cell_type": "markdown",
   "metadata": {
    "collapsed": true
   },
   "source": [
    "We added four poses:\n",
    "* Two for the OpenManipulator_ARM group\n",
    "* Two for the Gripper group."
   ]
  },
  {
   "cell_type": "markdown",
   "metadata": {
    "collapsed": true
   },
   "source": [
    "## End Effector:"
   ]
  },
  {
   "cell_type": "markdown",
   "metadata": {
    "collapsed": true
   },
   "source": [
    "We can add now the gripper as end effector. This unblocks some functionality related exclusively with end effectors:"
   ]
  },
  {
   "cell_type": "markdown",
   "metadata": {},
   "source": [
    "We set:\n",
    "* Name: gripper\n",
    "* Group ENDEffector: gripper\n",
    "* Parent Link: Link5\n",
    "* Parent Group: Not necessary here to state it."
   ]
  },
  {
   "cell_type": "markdown",
   "metadata": {
    "collapsed": true
   },
   "source": [
    "<img src=\"images/endeffector.png\"/>"
   ]
  },
  {
   "cell_type": "markdown",
   "metadata": {},
   "source": [
    "## Things we wont set: "
   ]
  },
  {
   "cell_type": "markdown",
   "metadata": {},
   "source": [
    "These are elements that we might enable after, but for now we leave them unset because we dont need them:\n",
    "* Passive Joints: These rae for caster wheelas and other arent actuated.\n",
    "* 3D perception: We dont have for the moment any sensor **( We might add it afterwards )**.\n",
    "* Simulation: When executed it tels us there is nothing to change."
   ]
  },
  {
   "cell_type": "markdown",
   "metadata": {},
   "source": [
    "## ROS controllers:"
   ]
  },
  {
   "cell_type": "markdown",
   "metadata": {},
   "source": [
    "Here we have two options:\n",
    "* Add the controllers manually: This allows us to select which type of control we are adding.\n",
    "* Auto add FollowTrajectoryControll"
   ]
  },
  {
   "cell_type": "markdown",
   "metadata": {},
   "source": [
    "For the moment we will **AutoGenerate** the **FollowJointTrajectory Control**. If we need to change it we just have to **Redit the Moveit package**."
   ]
  },
  {
   "cell_type": "markdown",
   "metadata": {
    "collapsed": true
   },
   "source": [
    "<img src=\"images/roscontrollers_1.png\"/>"
   ]
  },
  {
   "cell_type": "markdown",
   "metadata": {},
   "source": [
    "## Author: Add the Author info"
   ]
  },
  {
   "cell_type": "markdown",
   "metadata": {
    "collapsed": true
   },
   "source": [
    "<img src=\"images/author.png\"/>"
   ]
  },
  {
   "cell_type": "markdown",
   "metadata": {},
   "source": [
    "## FINALY: Generate the Package:"
   ]
  },
  {
   "cell_type": "markdown",
   "metadata": {},
   "source": [
    "Now is the time to generate the package that we will use:"
   ]
  },
  {
   "cell_type": "markdown",
   "metadata": {},
   "source": [
    "* Select the location. Hit browse and create a new folder with the name of the package you want. In our case we will call it **openmanipulator_ep2_movit_config**."
   ]
  },
  {
   "cell_type": "markdown",
   "metadata": {},
   "source": [
    "# TEST what we have created:"
   ]
  },
  {
   "cell_type": "code",
   "execution_count": null,
   "metadata": {
    "collapsed": true
   },
   "outputs": [],
   "source": [
    "cd ~/catkin_ws\n",
    "source devel/setup.bash;rospack profile\n",
    "roslaunch openmanipulator_ep2_movit_config demo.launch rviz_tutorial:=true"
   ]
  },
  {
   "cell_type": "markdown",
   "metadata": {},
   "source": [
    "# APPENDIX"
   ]
  },
  {
   "cell_type": "markdown",
   "metadata": {},
   "source": [
    "Kinematics Configurator:\n",
    "http://docs.ros.org/kinetic/api/moveit_tutorials/html/doc/kinematics_configuration/kinematics_configuration_tutorial.html"
   ]
  },
  {
   "cell_type": "markdown",
   "metadata": {},
   "source": [
    "Planners:\n",
    "http://docs.ros.org/kinetic/api/moveit_tutorials/html/doc/ompl_interface/ompl_interface_tutorial.html\n",
    "http://docs.ros.org/kinetic/api/moveit_tutorials/html/doc/chomp_planner/chomp_planner_tutorial.html\n",
    "http://docs.ros.org/kinetic/api/moveit_tutorials/html/doc/stomp_planner/stomp_planner_tutorial.html"
   ]
  },
  {
   "cell_type": "markdown",
   "metadata": {},
   "source": [
    "Controllers Type:\n",
    "http://docs.ros.org/indigo/api/moveit_tutorials/html/doc/pr2_tutorials/planning/src/doc/controller_configuration.html#followjointtrajectory-controller-interface"
   ]
  }
 ],
 "metadata": {
  "kernelspec": {
   "display_name": "Python 2",
   "language": "python",
   "name": "python2"
  },
  "language_info": {
   "codemirror_mode": {
    "name": "ipython",
    "version": 2
   },
   "file_extension": ".py",
   "mimetype": "text/x-python",
   "name": "python",
   "nbconvert_exporter": "python",
   "pygments_lexer": "ipython2",
   "version": "2.7.12"
  }
 },
 "nbformat": 4,
 "nbformat_minor": 0
}
