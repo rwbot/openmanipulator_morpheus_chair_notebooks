{
 "cells": [
  {
   "cell_type": "markdown",
   "metadata": {},
   "source": [
    "# Learn Real Robot Manipulation with OpenManipulator"
   ]
  },
  {
   "cell_type": "markdown",
   "metadata": {},
   "source": [
    "<img src=\"images/Clarkson-seal.png\"/>"
   ]
  },
  {
   "cell_type": "markdown",
   "metadata": {},
   "source": [
    "<img src=\"images/OpenManipulator.png\" width=600/>"
   ]
  },
  {
   "cell_type": "markdown",
   "metadata": {},
   "source": [
    "<img src=\"images/Logo-TheConstruct.png\" width=600/>"
   ]
  },
  {
   "cell_type": "markdown",
   "metadata": {},
   "source": [
    "In this new video series, you are going to learn all you need to know to be able to build your own robot manipulator.\n",
    "We will use as example the Open Manipulator Created by Robotis http://emanual.robotis.com/docs/en/platform/openmanipulator_x/overview/, http://wiki.ros.org/open_manipulator.\n",
    "In this case, we will use the 3D printed version designed by Clackson University https://www.clarkson.edu/, created by James Carrol and its team : \n",
    "https://www.clarkson.edu/people/james-carroll"
   ]
  },
  {
   "cell_type": "markdown",
   "metadata": {},
   "source": [
    "## Episodes"
   ]
  },
  {
   "cell_type": "markdown",
   "metadata": {},
   "source": [
    "* Bill of materials and assembly of OpenManipulator ClarksonVersion\n",
    "* Servo Motor Control: Create the scripts that will connect with the hardware and move the robot arm dynamixel servos.\n",
    "* Moving Real Robot with Servo Motor control: Move it using the previous episode code and acces internal data like forcefeedback. Talk about Dynamixels.\n",
    "* ROS control: Setup the control in a basic fashion and more complex for Movit use afterwards. Create Arm group and so on.\n",
    "* Moving The real robot with ROS Control: Use a ROSnode to move it through topics, services or actions.\n",
    "* Moveit Basics: Create the Moveit Package. Create the URDF and use it for the configuration of the movit package. Explain all the details of the moveit package generated.\n",
    "* Moveit Path Planning\n",
    "* MoveIt Planning Scene\n",
    "* MoveIt Kinematics\n",
    "* MoveIt Collision Checking\n",
    "* Moving Real Robot\n",
    "* Moveit Motion PLanning Programaticaly\n",
    "* Adding Perception in Real Robot: For example a camera or Xtion\n",
    "* Adding Perception in Moveit ( whatever perception system we added )\n",
    "* Grasping Basics.\n",
    "* Grasping with force feedback and behaviours.\n",
    "\n"
   ]
  }
 ],
 "metadata": {
  "kernelspec": {
   "display_name": "Python 2",
   "language": "python",
   "name": "python2"
  },
  "language_info": {
   "codemirror_mode": {
    "name": "ipython",
    "version": 2
   },
   "file_extension": ".py",
   "mimetype": "text/x-python",
   "name": "python",
   "nbconvert_exporter": "python",
   "pygments_lexer": "ipython2",
   "version": "2.7.12"
  }
 },
 "nbformat": 4,
 "nbformat_minor": 1
}
