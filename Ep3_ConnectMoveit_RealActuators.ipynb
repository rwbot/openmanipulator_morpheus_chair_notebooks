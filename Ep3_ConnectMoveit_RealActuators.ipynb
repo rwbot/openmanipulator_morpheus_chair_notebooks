{
 "cells": [
  {
   "cell_type": "markdown",
   "metadata": {},
   "source": [
    "# Connect MoveIt with Real Actuators"
   ]
  },
  {
   "cell_type": "markdown",
   "metadata": {},
   "source": [
    "Now we have to combine what we learned in **Episode 1 and Episode 2**, to through moveit, make the robot move.\n",
    "Just a fast reminder of the main commands of previous episodes:"
   ]
  },
  {
   "cell_type": "raw",
   "metadata": {},
   "source": [
    "# In ROBOTPC:\n",
    "cd ~/open_manipulator_ws\n",
    "source devel/setup.bash\n",
    "rospack profile\n",
    "roslaunch dynamixel_workbench_controllers position_control.launch\n",
    "\n",
    "# IN ROSDS:\n",
    "cd ~/catkin_ws\n",
    "source devel/setup.bash;rospack profile\n",
    "rosrun openmanipulator_morpheus_chair_tutorials move_openmanipulator.py\n",
    "\n",
    "# Moveit\n",
    "cd ~/catkin_ws/src\n",
    "roslaunch moveit_setup_assistant setup_assistant.launch\n",
    "\n",
    "# IN ROSDS:\n",
    "cd ~/catkin_ws\n",
    "source devel/setup.bash;rospack profile\n",
    "roslaunch openmanipulator_ep2_movit_config demo.launch rviz_tutorial:=true"
   ]
  },
  {
   "cell_type": "markdown",
   "metadata": {},
   "source": [
    "## Create the controllers for talking with the real robot"
   ]
  },
  {
   "cell_type": "markdown",
   "metadata": {},
   "source": [
    "In Episode 1 we talked about the position control, and how with a **python script** that we created called **move_openmanipulator.py** in package **openmanipulator_morpheus_chair_tutorials**, we could move the robot to any position."
   ]
  },
  {
   "cell_type": "markdown",
   "metadata": {},
   "source": [
    "### Create The TrajectoryServer"
   ]
  },
  {
   "cell_type": "markdown",
   "metadata": {},
   "source": [
    "The most standard way to use moveit is through TrajectoryJointControllers. Its essentially the cotrollers that can be setup automatically \"in theory\" in the **Moveit! Wizard**."
   ]
  },
  {
   "cell_type": "markdown",
   "metadata": {},
   "source": [
    "So Movit! will send goals to an action server of message type **control_msgs/FollowJointTrajectoryAction**. And its this **trajectory_server** that is going to recieve the goal and give the feedback to moveit. "
   ]
  },
  {
   "cell_type": "code",
   "execution_count": null,
   "metadata": {
    "collapsed": true
   },
   "outputs": [],
   "source": [
    "roscd open_manipulator_core/launch\n",
    "ls controller_launch.launch"
   ]
  },
  {
   "cell_type": "markdown",
   "metadata": {},
   "source": [
    "<p style=\"background:#3B8F10;color:white;\" id=\"simple_python\">**Launch File: controller_launch.launch** </p>"
   ]
  },
  {
   "cell_type": "code",
   "execution_count": null,
   "metadata": {
    "collapsed": true
   },
   "outputs": [],
   "source": [
    "<launch>\n",
    "   <arg name=\"device_name\"                default=\"/dev/ttyUSB0\"/>\n",
    "   <arg name=\"baud_rate\"                  default=\"3000000\"/>\n",
    "   <arg name=\"latency_timer\"              default=\"1\"/>\n",
    "   <arg name=\"scan_range\"                 default=\"10\"/>\n",
    "\n",
    "   <arg name=\"profile_velocity\"           default=\"75\"/>\n",
    "   <arg name=\"profile_acceleration\"       default=\"75\"/>\n",
    "\n",
    "   <param name=\"device_name\"              value=\"$(arg device_name)\"/>\n",
    "   <param name=\"baud_rate\"                value=\"$(arg baud_rate)\"/>\n",
    "   <param name=\"latency_timer\"            value=\"$(arg latency_timer)\"/>\n",
    "\n",
    "   <param name=\"scan_range\"               value=\"$(arg scan_range)\"/>\n",
    "\n",
    "   <param name=\"profile_velocity\"         value=\"$(arg profile_velocity)\"/>\n",
    "   <param name=\"profile_acceleration\"     value=\"$(arg profile_acceleration)\"/>\n",
    "   \n",
    "   <node name=\"position_control\" pkg=\"dynamixel_workbench_controllers\" type=\"position_control\" required=\"true\" output=\"screen\"/>\n",
    "   \n",
    "   \n",
    "   <node name=\"dynamixel_action_server\" pkg=\"open_manipulator_core\" type=\"trajectory_server\" required=\"true\" output=\"screen\" />\n",
    "   <node name=\"gripper_commander\" pkg=\"open_manipulator_core\" type=\"gripper_commander\" required=\"true\" output=\"screen\" /> \n",
    " </launch>\n"
   ]
  },
  {
   "cell_type": "markdown",
   "metadata": {},
   "source": [
    "<p style=\"background:#3B8F10;color:white;\" id=\"simple_python\">**END Launch File: controller_launch.launch** </p>"
   ]
  },
  {
   "cell_type": "markdown",
   "metadata": {},
   "source": [
    "As you see is very similar to the **position_control.launch** in **dynamixel_workbench_controllers** that we used in Episode 1. In fact its launching possition control. **BUT**, we are launching **TWO** launch files:\n",
    "* trajectory_server, from package open_manipulator_core: This is the one that is responsible for creating the ActionServer of type **control_msgs/FollowJointTrajectory**. This will convert **FollowJointTrajectory** messages into **position of the joints of the robot** ( what we did in episode 1).\n",
    "* gripper_commander, from package open_manipulator_core: This is a topic subscriber of type std_msgs/String that wil be in charge of converting Strings of **open_gripper** and **close_gripper** into its corresponding gripper position values."
   ]
  },
  {
   "cell_type": "markdown",
   "metadata": {},
   "source": [
    "So lets have a look how this **ActionServer** is made with Cpp:"
   ]
  },
  {
   "cell_type": "markdown",
   "metadata": {},
   "source": [
    "<p style=\"background:#3B8F10;color:white;\" id=\"simple_python\">**Cpp: trajectory_server.cpp** </p>"
   ]
  },
  {
   "cell_type": "markdown",
   "metadata": {},
   "source": [
    "[trajectory_server.cpp](extra_files/trajectory_server.cpp)"
   ]
  },
  {
   "cell_type": "markdown",
   "metadata": {},
   "source": [
    "<p style=\"background:#3B8F10;color:white;\" id=\"simple_python\">**END Cpp: trajectory_server.cpp** </p>"
   ]
  },
  {
   "cell_type": "markdown",
   "metadata": {
    "collapsed": true
   },
   "source": [
    "We wont go into detail but only note the following basics:"
   ]
  },
  {
   "cell_type": "markdown",
   "metadata": {},
   "source": [
    "Here we Start a publishier into our known topic for moving the angles of the robot through position:"
   ]
  },
  {
   "cell_type": "code",
   "execution_count": null,
   "metadata": {
    "collapsed": true
   },
   "outputs": [],
   "source": [
    "jointPub =nh_.advertise<sensor_msgs::JointState>(\"goal_dynamixel_position\", 1);"
   ]
  },
  {
   "cell_type": "markdown",
   "metadata": {},
   "source": [
    "And here we start an action server of message type **FollowJointTrajectory**"
   ]
  },
  {
   "cell_type": "code",
   "execution_count": null,
   "metadata": {
    "collapsed": true
   },
   "outputs": [],
   "source": [
    "actionlib::SimpleActionServer<control_msgs::FollowJointTrajectoryAction> as_;\n",
    "as_(nh_, name,boost::bind(&DynamixelTrajectoryAction::executeCB, this, _1), false)\n",
    "\n",
    "jointSub = nh_.subscribe<sensor_msgs::JointState>(\n",
    "      \"joint_states\", 1,\n",
    "      boost::bind(&DynamixelTrajectoryAction::onJointState, this, _1));\n",
    "as_.start();"
   ]
  },
  {
   "cell_type": "code",
   "execution_count": null,
   "metadata": {
    "collapsed": true
   },
   "outputs": [],
   "source": [
    "DynamixelTrajectoryAction::executeCB\n",
    "{\n",
    "... Among loads of things related to giving feedback to the action and other details\n",
    "...\n",
    "    jointPub.publish(targetState); # It publishes the state that we want to move the joints to.\n",
    "}\n"
   ]
  },
  {
   "cell_type": "markdown",
   "metadata": {},
   "source": [
    "Each robot will do it slightly different but the structure to be used for **MoveIt!** has to be exactly the same, in order to make it work."
   ]
  },
  {
   "cell_type": "markdown",
   "metadata": {},
   "source": [
    "We will talk about the gripper when we need it, for the moment its enough."
   ]
  },
  {
   "cell_type": "markdown",
   "metadata": {},
   "source": [
    "## Launch the new Control"
   ]
  },
  {
   "cell_type": "markdown",
   "metadata": {},
   "source": [
    "<table style=\"float:left;background: #407EAF\">\n",
    "<tr>\n",
    "<th>\n",
    "<p class=\"transparent\">Execute in OpenManipulatorConnecter PC #1</p>\n",
    "</th>\n",
    "</tr>\n",
    "</table>\n",
    "<br>"
   ]
  },
  {
   "cell_type": "code",
   "execution_count": null,
   "metadata": {
    "collapsed": true
   },
   "outputs": [],
   "source": [
    "roslaunch open_manipulator_core controller_launch.launch"
   ]
  },
  {
   "cell_type": "markdown",
   "metadata": {},
   "source": [
    "When launching it you should see, among other things these topics:\n",
    "* /arm/follow_joint_trajectory/cancel\n",
    "* /arm/follow_joint_trajectory/feedback\n",
    "* /arm/follow_joint_trajectory/goal\n",
    "* /arm/follow_joint_trajectory/result\n",
    "* /arm/follow_joint_trajectory/status\n",
    "\n",
    "* /gripper_command"
   ]
  },
  {
   "cell_type": "markdown",
   "metadata": {},
   "source": [
    "Stay with thes enames because we will need them for the next step which is configure **Moveit** to move the real robot:"
   ]
  },
  {
   "cell_type": "markdown",
   "metadata": {},
   "source": [
    "## Configure MoveIt! to be able to use the **FollowJointTrajectory** action server"
   ]
  },
  {
   "cell_type": "markdown",
   "metadata": {},
   "source": [
    "Lets start form the **movit package** we created in **Episode 2**, called **openmanipulator_ep2_movit_config**. You can find it in the repo <a href=\"https://bitbucket.org/theconstructcore/openmanipulator_morpheus_chair/src/master/\">openmanipulator_morpheus_chair</a>."
   ]
  },
  {
   "cell_type": "markdown",
   "metadata": {},
   "source": [
    "You will have to edit and create the following files like so:"
   ]
  },
  {
   "cell_type": "code",
   "execution_count": null,
   "metadata": {
    "collapsed": true
   },
   "outputs": [],
   "source": [
    "roscd openmanipulator_ep2_movit_config\n",
    "touch config/controllers.yaml\n",
    "touch config/joint_names.yaml\n",
    "touch launch/open_manipulator_planning_execution.launch"
   ]
  },
  {
   "cell_type": "markdown",
   "metadata": {},
   "source": [
    "<p style=\"background:#3B8F10;color:white;\" id=\"simple_python\">**controllers.yaml** </p>"
   ]
  },
  {
   "cell_type": "code",
   "execution_count": null,
   "metadata": {
    "collapsed": true
   },
   "outputs": [],
   "source": [
    "controller_list:\n",
    "  - name: \"arm\"\n",
    "    action_ns: follow_joint_trajectory\n",
    "    type: FollowJointTrajectory\n",
    "    joints: [id_1, id_2, id_3, id_4, id_5, id_6]"
   ]
  },
  {
   "cell_type": "markdown",
   "metadata": {},
   "source": [
    "If you remember we already created a **ros_controllers.yaml** through the **MoveIt1 Wizard**. But its more combersome to use and cluttered with stuff that we dont need.\n",
    "So we create a clean and simple one that contains only the joints, the type, name and action_ns."
   ]
  },
  {
   "cell_type": "markdown",
   "metadata": {},
   "source": [
    "Here is where the previous section comes in handy: **/arm/follow_joint_trajectory/goal**:\n",
    "* name:arm\n",
    "* action_ns: follow_joint_trajectory\n",
    "* type: Is the Base type of the FollowJointTrajectoryAction\n",
    "* joints: the same as the ones stated in the **ros_controllers.yaml**."
   ]
  },
  {
   "cell_type": "markdown",
   "metadata": {},
   "source": [
    "<p style=\"background:#3B8F10;color:white;\" id=\"simple_python\">**joint_names.yaml** </p>"
   ]
  },
  {
   "cell_type": "code",
   "execution_count": null,
   "metadata": {
    "collapsed": true
   },
   "outputs": [],
   "source": [
    "controller_joint_names: [id_1, id_2, id_3, id_4, id_5, id_6, grip_joint, grip_joint_sub]"
   ]
  },
  {
   "cell_type": "markdown",
   "metadata": {},
   "source": [
    "<p style=\"background:#3B8F10;color:white;\" id=\"simple_python\">**open_manipulator_planning_execution.launch** </p>"
   ]
  },
  {
   "cell_type": "code",
   "execution_count": null,
   "metadata": {
    "collapsed": true
   },
   "outputs": [],
   "source": [
    "<launch>\n",
    "\n",
    "  <rosparam command=\"load\" file=\"$(find openmanipulator_ep2_movit_config)/config/joint_names.yaml\"/>\n",
    "\n",
    "  <include file=\"$(find openmanipulator_ep2_movit_config)/launch/planning_context.launch\" >\n",
    "    <arg name=\"load_robot_description\" value=\"true\" />\n",
    "  </include>\n",
    "\n",
    "  <node name=\"joint_state_publisher\" pkg=\"joint_state_publisher\" type=\"joint_state_publisher\">\n",
    "    <param name=\"/use_gui\" value=\"false\"/>\n",
    "    <rosparam param=\"/source_list\">[/joint_states]</rosparam>\n",
    "  </node>\n",
    "\n",
    "  <include file=\"$(find openmanipulator_ep2_movit_config)/launch/move_group.launch\">\n",
    "    <arg name=\"publish_monitored_planning_scene\" value=\"true\" />\n",
    "  </include>\n",
    "\n",
    "  <include file=\"$(find openmanipulator_ep2_movit_config)/launch/moveit_rviz.launch\">\n",
    "    <arg name=\"config\" value=\"true\"/>\n",
    "  </include>\n",
    "\n",
    "</launch>"
   ]
  },
  {
   "cell_type": "markdown",
   "metadata": {},
   "source": [
    "We also have to edit the following files:\n",
    "* launch/open_manipulator_moveit_controller_manager.launch.xml: This file already was created but it was empty."
   ]
  },
  {
   "cell_type": "markdown",
   "metadata": {},
   "source": [
    "<p style=\"background:#3B8F10;color:white;\" id=\"simple_python\">**open_manipulator_moveit_controller_manager.launch.xml** </p>"
   ]
  },
  {
   "cell_type": "code",
   "execution_count": null,
   "metadata": {
    "collapsed": true
   },
   "outputs": [],
   "source": [
    "<launch>\n",
    "  <rosparam file=\"$(find openmanipulator_ep2_movit_config)/config/controllers.yaml\"/>\n",
    "  <param name=\"use_controller_manager\" value=\"false\"/>\n",
    "  <param name=\"trajectory_execution/execution_duration_monitoring\" value=\"false\"/>\n",
    "  <param name=\"moveit_controller_manager\" value=\"moveit_simple_controller_manager/MoveItSimpleControllerManager\"/>\n",
    "</launch>\n"
   ]
  },
  {
   "cell_type": "markdown",
   "metadata": {},
   "source": [
    "Here we **load the controllers.yaml**. And this launch is called through the following pipeline:\n",
    "* 0) openmanipulator_ep2_movit_config/launch/**open_manipulator_planning_execution.launch** **Calls** openmanipulator_ep2_movit_config/launch/**move_group.launch**\n",
    "* 1) openmanipulator_ep2_movit_config/launch/**move_group.launch** **Calls** openmanipulator_ep2_movit_config/launch/**trajectory_execution.launch.xml**\n",
    "* 2) openmanipulator_ep2_movit_config/launch/**trajectory_execution.launch.xml** **Calls** openmanipulator_ep2_movit_config/launch/**open_manipulator_moveit_controller_manager.launch.xml**"
   ]
  },
  {
   "cell_type": "markdown",
   "metadata": {},
   "source": [
    "## Launch MoveIt! With the controllers to be used defined"
   ]
  },
  {
   "cell_type": "markdown",
   "metadata": {},
   "source": [
    "Now we have to connect ROSDS to the Manipulator. For that we use like always the **RealRobot Connection**. "
   ]
  },
  {
   "cell_type": "markdown",
   "metadata": {},
   "source": [
    "**IF YOU HAD CLOSED IT, relaunch again the controllers in the real robot:**"
   ]
  },
  {
   "cell_type": "markdown",
   "metadata": {},
   "source": [
    "<table style=\"float:left;background: #407EAF\">\n",
    "<tr>\n",
    "<th>\n",
    "<p class=\"transparent\">Execute in OpenManipulatorConnecter PC #1</p>\n",
    "</th>\n",
    "</tr>\n",
    "</table>\n",
    "<br>"
   ]
  },
  {
   "cell_type": "code",
   "execution_count": null,
   "metadata": {
    "collapsed": true
   },
   "outputs": [],
   "source": [
    "roslaunch open_manipulator_core controller_launch.launch"
   ]
  },
  {
   "cell_type": "markdown",
   "metadata": {},
   "source": [
    "And Start Moveit!"
   ]
  },
  {
   "cell_type": "markdown",
   "metadata": {},
   "source": [
    "<table style=\"float:left;background: #407EAF\">\n",
    "<tr>\n",
    "<th>\n",
    "<p class=\"transparent\">Execute in ROSDS WebShell #1</p>\n",
    "</th>\n",
    "</tr>\n",
    "</table>\n",
    "<br>"
   ]
  },
  {
   "cell_type": "code",
   "execution_count": null,
   "metadata": {
    "collapsed": true
   },
   "outputs": [],
   "source": [
    "roslaunch openmanipulator_ep2_movit_config open_manipulator_planning_execution.launch"
   ]
  },
  {
   "cell_type": "markdown",
   "metadata": {},
   "source": [
    "You should now be able to see in the **Graphical Interface** or in your local computer if you executed everything there, the RVIZ with the **OpneManipulator** in the position where it is in reality:"
   ]
  },
  {
   "cell_type": "markdown",
   "metadata": {},
   "source": [
    "<img src=\"images/IMG_6381.jpg\"/>"
   ]
  },
  {
   "cell_type": "markdown",
   "metadata": {},
   "source": [
    "<img src=\"images/rviz_controllers.png\"/>"
   ]
  },
  {
   "cell_type": "markdown",
   "metadata": {},
   "source": [
    "Now if you execute a plan and execute, the real robot should move:"
   ]
  },
  {
   "cell_type": "markdown",
   "metadata": {},
   "source": [
    "You can see how the goals and feedback are sent:"
   ]
  },
  {
   "cell_type": "markdown",
   "metadata": {},
   "source": [
    "<table style=\"float:left;background: #407EAF\">\n",
    "<tr>\n",
    "<th>\n",
    "<p class=\"transparent\">Execute in ROSDS WebShell or OpenManipulatorPC  #2</p>\n",
    "</th>\n",
    "</tr>\n",
    "</table>\n",
    "<br>"
   ]
  },
  {
   "cell_type": "code",
   "execution_count": null,
   "metadata": {
    "collapsed": true
   },
   "outputs": [],
   "source": [
    "reset;rostopic echo /arm/follow_joint_trajectory/goal"
   ]
  },
  {
   "cell_type": "markdown",
   "metadata": {},
   "source": [
    "<table style=\"float:left;background: #407EAF\">\n",
    "<tr>\n",
    "<th>\n",
    "<p class=\"transparent\">Execute in ROSDS WebShell or OpenManipulatorPC  #3</p>\n",
    "</th>\n",
    "</tr>\n",
    "</table>\n",
    "<br>"
   ]
  },
  {
   "cell_type": "code",
   "execution_count": null,
   "metadata": {
    "collapsed": true
   },
   "outputs": [],
   "source": [
    "reset;rostopic echo /arm/follow_joint_trajectory/goal"
   ]
  }
 ],
 "metadata": {
  "kernelspec": {
   "display_name": "Python 2",
   "language": "python",
   "name": "python2"
  },
  "language_info": {
   "codemirror_mode": {
    "name": "ipython",
    "version": 2
   },
   "file_extension": ".py",
   "mimetype": "text/x-python",
   "name": "python",
   "nbconvert_exporter": "python",
   "pygments_lexer": "ipython2",
   "version": "2.7.12"
  }
 },
 "nbformat": 4,
 "nbformat_minor": 0
}
